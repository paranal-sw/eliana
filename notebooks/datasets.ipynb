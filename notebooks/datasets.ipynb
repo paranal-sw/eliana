{
 "cells": [
  {
   "cell_type": "markdown",
   "metadata": {},
   "source": [
    "# Module: eliana.datasets\n",
    "\n",
    "Specialized class to manipulates a data source as a pandas dataframe, provides cache mechanism.\n",
    "\n"
   ]
  },
  {
   "cell_type": "markdown",
   "metadata": {},
   "source": [
    "## Base Dataset\n",
    "\n",
    "Idea: similar to image datasets, where the **meta** info is linked to **traces** of events by the value of *trace_id*\n"
   ]
  },
  {
   "cell_type": "code",
   "execution_count": 1,
   "metadata": {},
   "outputs": [
    {
     "name": "stdout",
     "output_type": "stream",
     "text": [
      "\n",
      "    Common methods for Parlogan Dataset Manipulation.\n",
      "\n",
      "    The most interesting functionality of the class is that it generates a unique cache that speeds up queries or file manipulations.\n",
      "\n",
      "    Parameters\n",
      "    ----------\n",
      "    config : dict\n",
      "        A configuration dictionary containing key-value pairs for the dataset setup.\n",
      "\n",
      "    Attributes\n",
      "    ----------\n",
      "    config : Config\n",
      "        Configuration settings including required, optional, and default values.\n",
      "    \n"
     ]
    }
   ],
   "source": [
    "from eliana.datasets import ElianaDataset\n",
    "print(ElianaDataset().__doc__)"
   ]
  },
  {
   "cell_type": "markdown",
   "metadata": {},
   "source": [
    "* Some simple examples of how to use the dataset class\n",
    "* Read a directory of logs\n",
    "* Read paranal-observations using datasets.\n",
    "* Explain where they are stored\n",
    "* Cache mechanism.\n",
    "```\n",
    "\n",
    "### Elasticsearch Dataset\n",
    "```python\n",
    "from eliana.datasets import ParanalObservations\n",
    "# Read paranal-observations using datasets.\n",
    "# Examples of querying\n",
    "```\n",
    "\n",
    "### Paranal Observations\n",
    "```python\n",
    "from eliana.datasets import ParanalObservations\n",
    "# Read paranal-observations using datasets.\n",
    "# Examples of querying\n",
    "```\n",
    "\n",
    "## Log2Table\n",
    "Utility to read a sequential set of events and fill a table with complex behavior. It is based on finite state machines."
   ]
  },
  {
   "cell_type": "code",
   "execution_count": 2,
   "metadata": {},
   "outputs": [
    {
     "name": "stdout",
     "output_type": "stream",
     "text": [
      "Parse a list of logs following a criteria similar to state machines.\n",
      "\n",
      "    Constructor\n",
      "    ----------\n",
      "    timestamp : str, optional. Column name for timestamp.\n",
      "    timeout : str\n",
      "    truncated_rows : bool, allow to continue parsing with missing data\n",
      "    \n"
     ]
    }
   ],
   "source": [
    "from eliana.datasets import Log2Table\n",
    "print(Log2Table.__doc__)"
   ]
  },
  {
   "cell_type": "markdown",
   "metadata": {},
   "source": [
    "## Examples\n",
    "* [Very simple example from a synthetic log](to_be_done)\n",
    "* [Longer example](to_be_done)\n",
    "* [Advanced behaviors](to_be_done)\n",
    "* [Mix with eliana.datasets](to_be_done)\n",
    "```"
   ]
  },
  {
   "cell_type": "markdown",
   "metadata": {},
   "source": []
  }
 ],
 "metadata": {
  "kernelspec": {
   "display_name": "venv",
   "language": "python",
   "name": "python3"
  },
  "language_info": {
   "codemirror_mode": {
    "name": "ipython",
    "version": 3
   },
   "file_extension": ".py",
   "mimetype": "text/x-python",
   "name": "python",
   "nbconvert_exporter": "python",
   "pygments_lexer": "ipython3",
   "version": "3.10.9"
  }
 },
 "nbformat": 4,
 "nbformat_minor": 2
}
