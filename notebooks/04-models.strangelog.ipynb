{
 "cells": [
  {
   "cell_type": "markdown",
   "metadata": {},
   "source": [
    "# Model Strangelog\n",
    "Statistical approach to label anomalies in event logs based on percentile analysis of tokenized events.\n",
    "\n",
    "It returns a labelled dataframe from a test df_trace with new column 'strangeness' for each event:\n",
    "\n",
    "| Strangeness | Meaning | comment |\n",
    "|--------|---------|---------|\n",
    "| 0      | Boring  | Observed in 80% or more of the traces | \n",
    "| 1      | Common  | Observed in 20% - 80% of the traces   | \n",
    "| 2      | Rare    | Observed in 20% or less of the traces | \n",
    "| 3      | Unexpected | Never seen in the subset | \n",
    "\n",
    "**Requires**\n",
    "- log dataset from high level task\n",
    "- LogColor instance pretrained with similar dataset\n",
    "- A subset column with a partition of similar task executions. For example, TPL_ID."
   ]
  },
  {
   "cell_type": "markdown",
   "metadata": {},
   "source": [
    "### Example: traces grouped by TPL_ID"
   ]
  },
  {
   "cell_type": "code",
   "execution_count": 1,
   "metadata": {},
   "outputs": [],
   "source": [
    "# Init the public dataset\n",
    "from eliana.datasets import ParlogsObservations\n",
    "config = {\n",
    "    'system': 'GRAVITY',\n",
    "    'period': '1w'\n",
    "}\n",
    "logs = ParlogsObservations(**config)"
   ]
  },
  {
   "cell_type": "code",
   "execution_count": 2,
   "metadata": {},
   "outputs": [
    {
     "name": "stdout",
     "output_type": "stream",
     "text": [
      "In GRAVITY, from 152 executions, Success: 128; Error: 24\n"
     ]
    }
   ],
   "source": [
    "# Partition in success and errors\n",
    "meta_success = logs.meta[ logs.meta['ERROR'] == False ]\n",
    "meta_errors  = logs.meta[ logs.meta['ERROR'] == True ]\n",
    "print(f'In {logs.system}, from {len(logs.meta)} executions, Success: {len(meta_success)}; Error: {len(meta_errors)}')"
   ]
  },
  {
   "cell_type": "code",
   "execution_count": 3,
   "metadata": {},
   "outputs": [
    {
     "name": "stdout",
     "output_type": "stream",
     "text": [
      "Loaded 316207 traces\n"
     ]
    }
   ],
   "source": [
    "# Train Log Colorizer\n",
    "traces = logs.traces()\n",
    "traces['event'] = traces['logtext']\n",
    "print(f'Loaded {len(traces)} traces')"
   ]
  },
  {
   "cell_type": "code",
   "execution_count": 4,
   "metadata": {},
   "outputs": [
    {
     "name": "stderr",
     "output_type": "stream",
     "text": [
      "WARNING:root:Unique colors with no tokenization = 44266\n",
      "WARNING:root:Pass 1/4: Raw Tokenizer\n",
      "WARNING:root:Pass 1/4: -- Done! {'new vocab': 2927, 'compression': '93.39%'}\n",
      "WARNING:root:Pass 2/4: Parametrize numbers of low freq tokens\n",
      "WARNING:root:Pass 2/4: -- # of low freq tokens: 807\n",
      "WARNING:root:Pass 2/4: -- Done! {'new vocab': 1632, 'compression': '96.31%'}\n",
      "WARNING:root:Pass 3/4: Remove numbers in similar alphanum tokens\n",
      "WARNING:root:Pass 3/4: -- Repeated alphanum tokens with length >= 5:\n",
      "WARNING:root:Pass 3/4: -- ['faft§']\n",
      "WARNING:root:Pass 3/4: -- Done! {'new vocab': 1598, 'compression': '96.39%'}\n",
      "WARNING:root:Pass 4/4: Token Frequency Vector (TFV) optimization\n",
      "WARNING:root:Pass 4/4: -- THRESHOLD_LOW_F_COLOR = 16.0\n",
      "WARNING:root:Pass 4/4: -- Number of Low Frequency Colors: 832\n",
      "WARNING:root:Pass 4/4: -- Generate the Token Frequency Vectors (TFV)\n",
      "WARNING:root:Pass 4/4: -- Clusterize by TFV_size and replace rare events\n",
      "WARNING:root:Pass 4/4: Done! {'new vocab': 1409, 'compression': '96.82%'}\n",
      "WARNING:root:------- Results -------\n",
      "WARNING:root:   Templates found: 28\n",
      "WARNING:root:   Regexps found: 97\n",
      "WARNING:root:   Vocabulary Size: 1410 (unique colors)\n",
      "WARNING:root:   Compression: 96.82%\n",
      "WARNING:root:Finished!\n"
     ]
    }
   ],
   "source": [
    "from eliana.preprocessing import VltLogColorizer\n",
    "colorizer = VltLogColorizer()\n",
    "_ = colorizer.fit(traces, warn=True)"
   ]
  },
  {
   "cell_type": "markdown",
   "metadata": {},
   "source": [
    "## Train Strangelog model"
   ]
  },
  {
   "cell_type": "code",
   "execution_count": 5,
   "metadata": {},
   "outputs": [
    {
     "name": "stderr",
     "output_type": "stream",
     "text": [
      "WARNING:root:Pass 1/3: Tokenize traces\n",
      "WARNING:root:Pass 1/3: Tokenize traces -- Done!\n",
      "WARNING:root:Pass 2/3: Vector encodings\n",
      "WARNING:root:Pass 2/3: Vector encodings -- Done!\n",
      "WARNING:root:Pass 3/3: Compute strangeness\n",
      "WARNING:root:Pass 3/3: Compute strangeness -- Done!\n",
      "WARNING:root:------- Results -------\n",
      "WARNING:root:   [subset]            : {c_boring}, {c_common}, {c_rare}, {c_unexpected}\n",
      "WARNING:root:   GRAVITY_single_acq  : 135, 262, 79, 934\n",
      "WARNING:root:   GRAVITY_single_obs_calibrator: 142, 110, 14, 1144\n",
      "WARNING:root:   GRAVITY_dual_obs_exp: 238, 0, 22, 1150\n",
      "WARNING:root:   GRAVITY_dual_acq    : 281, 0, 120, 1009\n",
      "WARNING:root:   GRAVITY_gen_cal_init: 287, 30, 44, 1049\n",
      "WARNING:root:   GRAVITY_gen_cal_p2vm: 192, 88, 217, 913\n",
      "WARNING:root:   P2VMWAVESC          : 204, 68, 47, 1091\n",
      "WARNING:root:   GRAVITY_gen_cal_dark: 134, 67, 145, 1064\n",
      "WARNING:root:   GRAVITY_gen_cal_standby: 36, 41, 10, 1323\n",
      "WARNING:root:   GRAVITY_gen_tec_checkFddl: 98, 4, 2, 1306\n",
      "WARNING:root:   GRAVITY_gen_tec_checkMetZero: 344, 2, 7, 1057\n",
      "WARNING:root:   GRAVITY_gen_tec_AcqFibAOnAxis: 135, 17, 0, 1258\n",
      "WARNING:root:   GRAVITY_gen_tec_AcqFibA: 148, 4, 0, 1258\n",
      "WARNING:root:   GRAVITY_gen_tec_AcqFibB: 150, 16, 40, 1204\n",
      "WARNING:root:   GRAVITY_gen_tec_RoofPos: 29, 0, 0, 1381\n",
      "WARNING:root:   GRAVITY_gen_tec_PTref: 105, 1, 0, 1304\n",
      "WARNING:root:   GRAVITY_gen_tec_WFSref: 111, 0, 1, 1298\n",
      "WARNING:root:   GRAVITY_gen_tec_SaveDb: 53, 2, 1, 1354\n",
      "WARNING:root:   P2VM                : 310, 0, 0, 1100\n",
      "WARNING:root:Finished!\n"
     ]
    }
   ],
   "source": [
    "from eliana.models import Strangelog\n",
    "subset_col='TPL_ID'\n",
    "\n",
    "model = Strangelog(tokenizer=colorizer, subset_col=subset_col)\n",
    "model.fit(meta_success, traces, warn=True)"
   ]
  },
  {
   "cell_type": "markdown",
   "metadata": {},
   "source": [
    "## Predict for SUCCESS executions\n",
    "\n",
    "SUCCESS should have very low instances of rare (2) and unexpected (3) events\n",
    "\n",
    "| Strangeness | Meaning | comment |\n",
    "|--------|---------|---------|\n",
    "| 0      | Boring  | Observed in 80% or more of the traces | \n",
    "| 1      | Common  | Observed in 20% - 80% of the traces   | \n",
    "| 2      | Rare    | Observed in 20% or less of the traces | \n",
    "| 3      | Unexpected | Never seen in the subset | "
   ]
  },
  {
   "cell_type": "code",
   "execution_count": 6,
   "metadata": {},
   "outputs": [
    {
     "name": "stdout",
     "output_type": "stream",
     "text": [
      "Strangeness for GRAVITY_gen_cal_standby (Error = False)\n"
     ]
    },
    {
     "data": {
      "text/html": [
       "<div>\n",
       "<style scoped>\n",
       "    .dataframe tbody tr th:only-of-type {\n",
       "        vertical-align: middle;\n",
       "    }\n",
       "\n",
       "    .dataframe tbody tr th {\n",
       "        vertical-align: top;\n",
       "    }\n",
       "\n",
       "    .dataframe thead th {\n",
       "        text-align: right;\n",
       "    }\n",
       "</style>\n",
       "<table border=\"1\" class=\"dataframe\">\n",
       "  <thead>\n",
       "    <tr style=\"text-align: right;\">\n",
       "      <th></th>\n",
       "      <th>strangeness</th>\n",
       "      <th>count</th>\n",
       "    </tr>\n",
       "  </thead>\n",
       "  <tbody>\n",
       "    <tr>\n",
       "      <th>0</th>\n",
       "      <td>0</td>\n",
       "      <td>54</td>\n",
       "    </tr>\n",
       "    <tr>\n",
       "      <th>1</th>\n",
       "      <td>1</td>\n",
       "      <td>8</td>\n",
       "    </tr>\n",
       "  </tbody>\n",
       "</table>\n",
       "</div>"
      ],
      "text/plain": [
       "   strangeness  count\n",
       "0            0     54\n",
       "1            1      8"
      ]
     },
     "metadata": {},
     "output_type": "display_data"
    },
    {
     "name": "stdout",
     "output_type": "stream",
     "text": [
      "Strangeness for GRAVITY_gen_tec_PTref (Error = False)\n"
     ]
    },
    {
     "data": {
      "text/html": [
       "<div>\n",
       "<style scoped>\n",
       "    .dataframe tbody tr th:only-of-type {\n",
       "        vertical-align: middle;\n",
       "    }\n",
       "\n",
       "    .dataframe tbody tr th {\n",
       "        vertical-align: top;\n",
       "    }\n",
       "\n",
       "    .dataframe thead th {\n",
       "        text-align: right;\n",
       "    }\n",
       "</style>\n",
       "<table border=\"1\" class=\"dataframe\">\n",
       "  <thead>\n",
       "    <tr style=\"text-align: right;\">\n",
       "      <th></th>\n",
       "      <th>strangeness</th>\n",
       "      <th>count</th>\n",
       "    </tr>\n",
       "  </thead>\n",
       "  <tbody>\n",
       "    <tr>\n",
       "      <th>0</th>\n",
       "      <td>0</td>\n",
       "      <td>268</td>\n",
       "    </tr>\n",
       "    <tr>\n",
       "      <th>1</th>\n",
       "      <td>1</td>\n",
       "      <td>1</td>\n",
       "    </tr>\n",
       "  </tbody>\n",
       "</table>\n",
       "</div>"
      ],
      "text/plain": [
       "   strangeness  count\n",
       "0            0    268\n",
       "1            1      1"
      ]
     },
     "metadata": {},
     "output_type": "display_data"
    },
    {
     "name": "stdout",
     "output_type": "stream",
     "text": [
      "Strangeness for P2VMWAVESC (Error = False)\n"
     ]
    },
    {
     "data": {
      "text/html": [
       "<div>\n",
       "<style scoped>\n",
       "    .dataframe tbody tr th:only-of-type {\n",
       "        vertical-align: middle;\n",
       "    }\n",
       "\n",
       "    .dataframe tbody tr th {\n",
       "        vertical-align: top;\n",
       "    }\n",
       "\n",
       "    .dataframe thead th {\n",
       "        text-align: right;\n",
       "    }\n",
       "</style>\n",
       "<table border=\"1\" class=\"dataframe\">\n",
       "  <thead>\n",
       "    <tr style=\"text-align: right;\">\n",
       "      <th></th>\n",
       "      <th>strangeness</th>\n",
       "      <th>count</th>\n",
       "    </tr>\n",
       "  </thead>\n",
       "  <tbody>\n",
       "    <tr>\n",
       "      <th>0</th>\n",
       "      <td>0</td>\n",
       "      <td>3474</td>\n",
       "    </tr>\n",
       "    <tr>\n",
       "      <th>1</th>\n",
       "      <td>1</td>\n",
       "      <td>205</td>\n",
       "    </tr>\n",
       "  </tbody>\n",
       "</table>\n",
       "</div>"
      ],
      "text/plain": [
       "   strangeness  count\n",
       "0            0   3474\n",
       "1            1    205"
      ]
     },
     "metadata": {},
     "output_type": "display_data"
    },
    {
     "name": "stdout",
     "output_type": "stream",
     "text": [
      "Strangeness for P2VMWAVESC (Error = False)\n"
     ]
    },
    {
     "data": {
      "text/html": [
       "<div>\n",
       "<style scoped>\n",
       "    .dataframe tbody tr th:only-of-type {\n",
       "        vertical-align: middle;\n",
       "    }\n",
       "\n",
       "    .dataframe tbody tr th {\n",
       "        vertical-align: top;\n",
       "    }\n",
       "\n",
       "    .dataframe thead th {\n",
       "        text-align: right;\n",
       "    }\n",
       "</style>\n",
       "<table border=\"1\" class=\"dataframe\">\n",
       "  <thead>\n",
       "    <tr style=\"text-align: right;\">\n",
       "      <th></th>\n",
       "      <th>strangeness</th>\n",
       "      <th>count</th>\n",
       "    </tr>\n",
       "  </thead>\n",
       "  <tbody>\n",
       "    <tr>\n",
       "      <th>0</th>\n",
       "      <td>0</td>\n",
       "      <td>3900</td>\n",
       "    </tr>\n",
       "    <tr>\n",
       "      <th>1</th>\n",
       "      <td>1</td>\n",
       "      <td>258</td>\n",
       "    </tr>\n",
       "    <tr>\n",
       "      <th>2</th>\n",
       "      <td>2</td>\n",
       "      <td>3</td>\n",
       "    </tr>\n",
       "  </tbody>\n",
       "</table>\n",
       "</div>"
      ],
      "text/plain": [
       "   strangeness  count\n",
       "0            0   3900\n",
       "1            1    258\n",
       "2            2      3"
      ]
     },
     "metadata": {},
     "output_type": "display_data"
    },
    {
     "name": "stdout",
     "output_type": "stream",
     "text": [
      "Strangeness for GRAVITY_gen_cal_p2vm (Error = False)\n"
     ]
    },
    {
     "data": {
      "text/html": [
       "<div>\n",
       "<style scoped>\n",
       "    .dataframe tbody tr th:only-of-type {\n",
       "        vertical-align: middle;\n",
       "    }\n",
       "\n",
       "    .dataframe tbody tr th {\n",
       "        vertical-align: top;\n",
       "    }\n",
       "\n",
       "    .dataframe thead th {\n",
       "        text-align: right;\n",
       "    }\n",
       "</style>\n",
       "<table border=\"1\" class=\"dataframe\">\n",
       "  <thead>\n",
       "    <tr style=\"text-align: right;\">\n",
       "      <th></th>\n",
       "      <th>strangeness</th>\n",
       "      <th>count</th>\n",
       "    </tr>\n",
       "  </thead>\n",
       "  <tbody>\n",
       "    <tr>\n",
       "      <th>0</th>\n",
       "      <td>0</td>\n",
       "      <td>2324</td>\n",
       "    </tr>\n",
       "    <tr>\n",
       "      <th>1</th>\n",
       "      <td>1</td>\n",
       "      <td>150</td>\n",
       "    </tr>\n",
       "  </tbody>\n",
       "</table>\n",
       "</div>"
      ],
      "text/plain": [
       "   strangeness  count\n",
       "0            0   2324\n",
       "1            1    150"
      ]
     },
     "metadata": {},
     "output_type": "display_data"
    }
   ],
   "source": [
    "for row in meta_success.sample(5).itertuples():\n",
    "    print(f\"Strangeness for {row.TPL_ID} (Error = {row.ERROR})\")\n",
    "    labelled = model.predict(row.TPL_ID, traces[ traces['trace_id'] == row.Index ] )\n",
    "    display( labelled.groupby('strangeness').size().reset_index(name='count'))\n"
   ]
  },
  {
   "cell_type": "markdown",
   "metadata": {},
   "source": [
    "## Predict for ERROR executions\n",
    "\n",
    "ERRORS should have hign number of rare (2) and unexpected (3) events. And in general, the content of the unexpected should notify about the cause of errors.\n",
    "\n",
    "| Strangeness | Meaning | comment |\n",
    "|--------|---------|---------|\n",
    "| 0      | Boring  | Observed in 80% or more of the traces | \n",
    "| 1      | Common  | Observed in 20% - 80% of the traces   | \n",
    "| 2      | Rare    | Observed in 20% or less of the traces | \n",
    "| 3      | Unexpected | Never seen in the subset | "
   ]
  },
  {
   "cell_type": "code",
   "execution_count": 7,
   "metadata": {},
   "outputs": [
    {
     "name": "stdout",
     "output_type": "stream",
     "text": [
      "-------\n",
      "Unexpected events in GRAVITY_gen_cal_init (Error = True)\n",
      "\n",
      "['unforseen template error'\n",
      " 'tacerr_mod_block unable to modify block parameters controlmet'\n",
      " 'tacerr_block_name unknown block controlmet'\n",
      " 'tacerr_send_request request to rtcontroller failed tacshmsg_modify_block'\n",
      " 'modify block parameters controlmet red'\n",
      " 'block parameters controlmet red']\n"
     ]
    },
    {
     "data": {
      "text/html": [
       "<div>\n",
       "<style scoped>\n",
       "    .dataframe tbody tr th:only-of-type {\n",
       "        vertical-align: middle;\n",
       "    }\n",
       "\n",
       "    .dataframe tbody tr th {\n",
       "        vertical-align: top;\n",
       "    }\n",
       "\n",
       "    .dataframe thead th {\n",
       "        text-align: right;\n",
       "    }\n",
       "</style>\n",
       "<table border=\"1\" class=\"dataframe\">\n",
       "  <thead>\n",
       "    <tr style=\"text-align: right;\">\n",
       "      <th></th>\n",
       "      <th>strangeness</th>\n",
       "      <th>count</th>\n",
       "    </tr>\n",
       "  </thead>\n",
       "  <tbody>\n",
       "    <tr>\n",
       "      <th>0</th>\n",
       "      <td>0</td>\n",
       "      <td>226</td>\n",
       "    </tr>\n",
       "    <tr>\n",
       "      <th>1</th>\n",
       "      <td>1</td>\n",
       "      <td>3</td>\n",
       "    </tr>\n",
       "    <tr>\n",
       "      <th>2</th>\n",
       "      <td>2</td>\n",
       "      <td>2</td>\n",
       "    </tr>\n",
       "    <tr>\n",
       "      <th>3</th>\n",
       "      <td>3</td>\n",
       "      <td>6</td>\n",
       "    </tr>\n",
       "  </tbody>\n",
       "</table>\n",
       "</div>"
      ],
      "text/plain": [
       "   strangeness  count\n",
       "0            0    226\n",
       "1            1      3\n",
       "2            2      2\n",
       "3            3      6"
      ]
     },
     "metadata": {},
     "output_type": "display_data"
    },
    {
     "name": "stdout",
     "output_type": "stream",
     "text": [
      "-------\n",
      "Unexpected events in GRAVITY_gen_tec_checkMetZero (Error = True)\n",
      "\n",
      "['erradd parameter error is a null pointer errid {} module db location dbreaddirect c {}'\n",
      " 'erradd parameter error is a null pointer errid {} module cai location caigetattributes c {}'\n",
      " 'erradd parameter error is a null pointer errid {} module cai location cairwattribute c {}'\n",
      " 'unforseen {} local alias lgvmet scanningstatus {} normal scan system alarm for device pointname check device status'\n",
      " 'unforseen {} local alias lgvmet scanningstatus {} fatal scan system alarm for device pointname check device status'\n",
      " 'wgv {} local alias lgvmet scanningstatus {} normal'\n",
      " 'wgv {} local alias lgvmet scanningstatus {} fatal'\n",
      " 'ccserr_scan_fct_call error occurred in function ccsscansend'\n",
      " 'ccserr_db_quality point alias lcu lgvmet tacsimulation has bad data quality suspect'\n",
      " 'seqerr_bad_quality alias lcu lgvmet tacsimulation has bad quality'\n",
      " 'seqerr_bad_quality alias p881 running has bad quality'\n",
      " 'ccserr_db_quality point alias p881 running has bad data quality suspect'\n",
      " 'unforseen {} local alias lgvmet scanningstatus {} serious scan system alarm for device pointname check device status'\n",
      " 'ccserr_scan_fct_call error occurred in function rtdisabledevice device currently in restart mode'\n",
      " 'wgv {} local alias lgvmet scanningstatus {} serious'\n",
      " 'reboot with system reset from command lccboot'\n",
      " 'ccserr_msg_timeout timeout on message receive'\n",
      " 'ccsreplace c {} {} {} {} w rte_msgto timeout while waiting for acknowledgement from wgv reason interrupted system call errno {}'\n",
      " 'ccserr_db_lcu fail of dbread in env lgvmet on element alias gvimet data sens{}anin{}'\n",
      " 'qsemuthread c {} close connection to environment lgvmet']\n"
     ]
    },
    {
     "data": {
      "text/html": [
       "<div>\n",
       "<style scoped>\n",
       "    .dataframe tbody tr th:only-of-type {\n",
       "        vertical-align: middle;\n",
       "    }\n",
       "\n",
       "    .dataframe tbody tr th {\n",
       "        vertical-align: top;\n",
       "    }\n",
       "\n",
       "    .dataframe thead th {\n",
       "        text-align: right;\n",
       "    }\n",
       "</style>\n",
       "<table border=\"1\" class=\"dataframe\">\n",
       "  <thead>\n",
       "    <tr style=\"text-align: right;\">\n",
       "      <th></th>\n",
       "      <th>strangeness</th>\n",
       "      <th>count</th>\n",
       "    </tr>\n",
       "  </thead>\n",
       "  <tbody>\n",
       "    <tr>\n",
       "      <th>0</th>\n",
       "      <td>0</td>\n",
       "      <td>1769</td>\n",
       "    </tr>\n",
       "    <tr>\n",
       "      <th>1</th>\n",
       "      <td>2</td>\n",
       "      <td>1</td>\n",
       "    </tr>\n",
       "    <tr>\n",
       "      <th>2</th>\n",
       "      <td>3</td>\n",
       "      <td>4032</td>\n",
       "    </tr>\n",
       "  </tbody>\n",
       "</table>\n",
       "</div>"
      ],
      "text/plain": [
       "   strangeness  count\n",
       "0            0   1769\n",
       "1            2      1\n",
       "2            3   4032"
      ]
     },
     "metadata": {},
     "output_type": "display_data"
    },
    {
     "name": "stdout",
     "output_type": "stream",
     "text": [
      "-------\n",
      "Unexpected events in GRAVITY_single_obs_exp (Error = True)\n",
      "\n",
      "[]\n"
     ]
    },
    {
     "data": {
      "text/html": [
       "<div>\n",
       "<style scoped>\n",
       "    .dataframe tbody tr th:only-of-type {\n",
       "        vertical-align: middle;\n",
       "    }\n",
       "\n",
       "    .dataframe tbody tr th {\n",
       "        vertical-align: top;\n",
       "    }\n",
       "\n",
       "    .dataframe thead th {\n",
       "        text-align: right;\n",
       "    }\n",
       "</style>\n",
       "<table border=\"1\" class=\"dataframe\">\n",
       "  <thead>\n",
       "    <tr style=\"text-align: right;\">\n",
       "      <th></th>\n",
       "      <th>strangeness</th>\n",
       "      <th>count</th>\n",
       "    </tr>\n",
       "  </thead>\n",
       "  <tbody>\n",
       "    <tr>\n",
       "      <th>0</th>\n",
       "      <td>-1</td>\n",
       "      <td>5490</td>\n",
       "    </tr>\n",
       "  </tbody>\n",
       "</table>\n",
       "</div>"
      ],
      "text/plain": [
       "   strangeness  count\n",
       "0           -1   5490"
      ]
     },
     "metadata": {},
     "output_type": "display_data"
    },
    {
     "name": "stdout",
     "output_type": "stream",
     "text": [
      "-------\n",
      "Unexpected events in GRAVITY_single_obs_exp (Error = True)\n",
      "\n",
      "[]\n"
     ]
    },
    {
     "data": {
      "text/html": [
       "<div>\n",
       "<style scoped>\n",
       "    .dataframe tbody tr th:only-of-type {\n",
       "        vertical-align: middle;\n",
       "    }\n",
       "\n",
       "    .dataframe tbody tr th {\n",
       "        vertical-align: top;\n",
       "    }\n",
       "\n",
       "    .dataframe thead th {\n",
       "        text-align: right;\n",
       "    }\n",
       "</style>\n",
       "<table border=\"1\" class=\"dataframe\">\n",
       "  <thead>\n",
       "    <tr style=\"text-align: right;\">\n",
       "      <th></th>\n",
       "      <th>strangeness</th>\n",
       "      <th>count</th>\n",
       "    </tr>\n",
       "  </thead>\n",
       "  <tbody>\n",
       "    <tr>\n",
       "      <th>0</th>\n",
       "      <td>-1</td>\n",
       "      <td>5032</td>\n",
       "    </tr>\n",
       "  </tbody>\n",
       "</table>\n",
       "</div>"
      ],
      "text/plain": [
       "   strangeness  count\n",
       "0           -1   5032"
      ]
     },
     "metadata": {},
     "output_type": "display_data"
    },
    {
     "name": "stdout",
     "output_type": "stream",
     "text": [
      "-------\n",
      "Unexpected events in GRAVITY_single_acq (Error = True)\n",
      "\n",
      "['gravity_single_obs_calibrator single field calibrator yellow'\n",
      " 'seq obsseq o s' 'det{} ndit object {}' 'seq comment no_comment'\n",
      " 'ins spec res same' 'seq {} {}' 'det{} ndit {}' 'dpr catg calib'\n",
      " 'ins spec pol same' 'current rmnrec status idle'\n",
      " 'fringetrk loop state {}' 'initial instrument setup brown'\n",
      " 'setup expoid {} noexposure function ins mode parallel blue'\n",
      " 'setting sp mode to in med brown' 'observing sequence o s brown'\n",
      " 'status function ins drot{} blue'\n",
      " 'send command status ins drot{} false to sub system ics'\n",
      " 'last reply to status from ics received ins drot{} id hwp{} {}ins drot{} name field rotator {} {}ins drot{} mode vlti {}in len {}'\n",
      " 'ins drot{} id hwp{} ins drot{} name field rotator {} ins drot{} mode vlti ins drot{} posang {} ins drot{} ra {} ins drot{} dec {} ins drot{} pos'\n",
      " '{} ins drot{} modeangle {} springgreen4']\n"
     ]
    },
    {
     "data": {
      "text/html": [
       "<div>\n",
       "<style scoped>\n",
       "    .dataframe tbody tr th:only-of-type {\n",
       "        vertical-align: middle;\n",
       "    }\n",
       "\n",
       "    .dataframe tbody tr th {\n",
       "        vertical-align: top;\n",
       "    }\n",
       "\n",
       "    .dataframe thead th {\n",
       "        text-align: right;\n",
       "    }\n",
       "</style>\n",
       "<table border=\"1\" class=\"dataframe\">\n",
       "  <thead>\n",
       "    <tr style=\"text-align: right;\">\n",
       "      <th></th>\n",
       "      <th>strangeness</th>\n",
       "      <th>count</th>\n",
       "    </tr>\n",
       "  </thead>\n",
       "  <tbody>\n",
       "    <tr>\n",
       "      <th>0</th>\n",
       "      <td>0</td>\n",
       "      <td>812</td>\n",
       "    </tr>\n",
       "    <tr>\n",
       "      <th>1</th>\n",
       "      <td>1</td>\n",
       "      <td>97</td>\n",
       "    </tr>\n",
       "    <tr>\n",
       "      <th>2</th>\n",
       "      <td>2</td>\n",
       "      <td>12</td>\n",
       "    </tr>\n",
       "    <tr>\n",
       "      <th>3</th>\n",
       "      <td>3</td>\n",
       "      <td>331</td>\n",
       "    </tr>\n",
       "  </tbody>\n",
       "</table>\n",
       "</div>"
      ],
      "text/plain": [
       "   strangeness  count\n",
       "0            0    812\n",
       "1            1     97\n",
       "2            2     12\n",
       "3            3    331"
      ]
     },
     "metadata": {},
     "output_type": "display_data"
    }
   ],
   "source": [
    "for row in meta_errors.sample(5).itertuples():\n",
    "    print(f\"-------\\nUnexpected events in {row.TPL_ID} (Error = {row.ERROR})\")\n",
    "    trace = traces[ traces['trace_id'] == row.Index ]\n",
    "    labelled = model.predict(row.TPL_ID, trace )\n",
    "    unexpected = labelled[ labelled['strangeness'] == 3 ]\n",
    "    unexpected['color'] = unexpected['event'].apply(colorizer.tokenize)\n",
    "    print()\n",
    "    print( unexpected['color'].unique()[:20] )\n",
    "    display( labelled.groupby('strangeness').size().reset_index(name='count'))\n"
   ]
  }
 ],
 "metadata": {
  "kernelspec": {
   "display_name": "venv",
   "language": "python",
   "name": "python3"
  },
  "language_info": {
   "codemirror_mode": {
    "name": "ipython",
    "version": 3
   },
   "file_extension": ".py",
   "mimetype": "text/x-python",
   "name": "python",
   "nbconvert_exporter": "python",
   "pygments_lexer": "ipython3",
   "version": "3.10.9"
  }
 },
 "nbformat": 4,
 "nbformat_minor": 2
}
