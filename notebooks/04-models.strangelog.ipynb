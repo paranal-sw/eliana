{
 "cells": [
  {
   "cell_type": "markdown",
   "metadata": {},
   "source": [
    "# Model Strangelog\n",
    "Statistical approach to label anomalies in event logs based on percentile analysis of tokenized events.\n",
    "\n",
    "It returns a labelled dataframe from a test df_trace with new column 'strangeness' for each event:\n",
    "\n",
    "| Strangeness | Meaning | comment |\n",
    "|--------|---------|---------|\n",
    "| 0      | Boring  | Observed in 80% or more of the traces | \n",
    "| 1      | Common  | Observed in 20% - 80% of the traces   | \n",
    "| 2      | Rare    | Observed in 20% or less of the traces | \n",
    "| 3      | Unexpected | Never seen in the subset | \n",
    "\n",
    "**Requires**\n",
    "- log dataset from high level task\n",
    "- LogColor instance pretrained with similar dataset\n",
    "- A subset column with a partition of similar task executions. For example, TPL_ID."
   ]
  },
  {
   "cell_type": "markdown",
   "metadata": {},
   "source": [
    "### Example: traces grouped by TPL_ID"
   ]
  },
  {
   "cell_type": "code",
   "execution_count": 1,
   "metadata": {},
   "outputs": [],
   "source": [
    "# Init the public dataset\n",
    "from eliana.datasets import ParlogsObservations\n",
    "logs = ParlogsObservations(system=\"GRAVITY\", period=\"1w\")"
   ]
  },
  {
   "cell_type": "code",
   "execution_count": 2,
   "metadata": {},
   "outputs": [
    {
     "name": "stdout",
     "output_type": "stream",
     "text": [
      "In GRAVITY, from 152 executions, Success: 128; Error: 24\n"
     ]
    }
   ],
   "source": [
    "# Partition in success and errors\n",
    "meta_success = logs.meta[ logs.meta['ERROR'] == False ]\n",
    "meta_errors  = logs.meta[ logs.meta['ERROR'] == True ]\n",
    "print(f'In {logs.system}, from {len(logs.meta)} executions, Success: {len(meta_success)}; Error: {len(meta_errors)}')"
   ]
  },
  {
   "cell_type": "code",
   "execution_count": 3,
   "metadata": {},
   "outputs": [
    {
     "name": "stdout",
     "output_type": "stream",
     "text": [
      "Loaded 316207 traces\n"
     ]
    }
   ],
   "source": [
    "# Train Log Colorizer\n",
    "traces = logs.traces()\n",
    "print(f'Loaded {len(traces)} traces')"
   ]
  },
  {
   "cell_type": "code",
   "execution_count": 4,
   "metadata": {},
   "outputs": [
    {
     "name": "stderr",
     "output_type": "stream",
     "text": [
      "WARNING:root:Unique colors with no tokenization = 53004\n",
      "WARNING:root:Pass 1/4: Raw Tokenizer\n",
      "WARNING:root:Pass 1/4: -- Done! {'new vocab': 3568, 'compression': '93.27%'}\n",
      "WARNING:root:Pass 2/4: Parametrize numbers of low freq tokens\n",
      "WARNING:root:Pass 2/4: -- # of low freq tokens: 965\n",
      "WARNING:root:Pass 2/4: -- Done! {'new vocab': 2009, 'compression': '96.21%'}\n",
      "WARNING:root:Pass 3/4: Remove numbers in similar alphanum tokens\n",
      "WARNING:root:Pass 3/4: -- Repeated alphanum tokens with length >= 5:\n",
      "WARNING:root:Pass 3/4: -- ['FAFT§']\n",
      "WARNING:root:Pass 3/4: -- Done! {'new vocab': 1972, 'compression': '96.28%'}\n",
      "WARNING:root:Pass 4/4: Token Frequency Vector (TFV) optimization\n",
      "WARNING:root:Pass 4/4: -- THRESHOLD_LOW_F_COLOR = 15.0\n",
      "WARNING:root:Pass 4/4: -- Number of Low Frequency Colors: 1079\n",
      "WARNING:root:Pass 4/4: -- Generate the Token Frequency Vectors (TFV)\n",
      "WARNING:root:Pass 4/4: -- Clusterize by TFV_size and replace rare events\n",
      "WARNING:root:Pass 4/4: Done! {'new vocab': 1612, 'compression': '96.96%'}\n",
      "WARNING:root:------- Results -------\n",
      "WARNING:root:   Templates found: 62\n",
      "WARNING:root:   Regexps found: 111\n",
      "WARNING:root:   Vocabulary Size: 1613 (unique colors)\n",
      "WARNING:root:   Compression: 96.96%\n",
      "WARNING:root:Finished!\n"
     ]
    }
   ],
   "source": [
    "from eliana.preprocessing import LogColorizer, VltTokenizer\n",
    "colorizer = LogColorizer(tokenizer=VltTokenizer(to_lowercase=False))\n",
    "_ = colorizer.fit(traces, warn=True)"
   ]
  },
  {
   "cell_type": "markdown",
   "metadata": {},
   "source": [
    "## Train Strangelog model"
   ]
  },
  {
   "cell_type": "code",
   "execution_count": 5,
   "metadata": {},
   "outputs": [
    {
     "name": "stderr",
     "output_type": "stream",
     "text": [
      "WARNING:root:Pass 1/3: Tokenize traces\n",
      "WARNING:root:Pass 1/3: Tokenize traces -- Done!\n",
      "WARNING:root:Pass 2/3: Vector encodings\n",
      "WARNING:root:Pass 2/3: Vector encodings -- Done!\n",
      "WARNING:root:Pass 3/3: Compute strangeness\n",
      "WARNING:root:Pass 3/3: Compute strangeness -- Done!\n",
      "WARNING:root:------- Results -------\n",
      "WARNING:root:   [subset]            : {c_boring}, {c_common}, {c_rare}, {c_unexpected}\n",
      "WARNING:root:   GRAVITY_single_acq  : 135, 244, 74, 1160\n",
      "WARNING:root:   GRAVITY_single_obs_calibrator: 132, 107, 12, 1362\n",
      "WARNING:root:   GRAVITY_dual_obs_exp: 227, 0, 19, 1367\n",
      "WARNING:root:   GRAVITY_dual_acq    : 273, 0, 110, 1230\n",
      "WARNING:root:   GRAVITY_gen_cal_init: 107, 338, 59, 1109\n",
      "WARNING:root:   GRAVITY_gen_cal_p2vm: 166, 93, 299, 1055\n",
      "WARNING:root:   P2VMWAVESC          : 194, 55, 47, 1317\n",
      "WARNING:root:   GRAVITY_gen_cal_dark: 129, 67, 125, 1292\n",
      "WARNING:root:   GRAVITY_gen_cal_standby: 36, 41, 27, 1509\n",
      "WARNING:root:   GRAVITY_gen_tec_checkFddl: 98, 4, 4, 1507\n",
      "WARNING:root:   GRAVITY_gen_tec_checkMetZero: 350, 2, 8, 1253\n",
      "WARNING:root:   GRAVITY_gen_tec_AcqFibAOnAxis: 135, 24, 0, 1454\n",
      "WARNING:root:   GRAVITY_gen_tec_AcqFibA: 153, 5, 0, 1455\n",
      "WARNING:root:   GRAVITY_gen_tec_AcqFibB: 156, 16, 39, 1402\n",
      "WARNING:root:   GRAVITY_gen_tec_RoofPos: 29, 0, 0, 1584\n",
      "WARNING:root:   GRAVITY_gen_tec_PTref: 108, 1, 0, 1504\n",
      "WARNING:root:   GRAVITY_gen_tec_WFSref: 114, 0, 1, 1498\n",
      "WARNING:root:   GRAVITY_gen_tec_SaveDb: 53, 2, 1, 1557\n",
      "WARNING:root:   P2VM                : 300, 0, 0, 1313\n",
      "WARNING:root:Finished!\n"
     ]
    }
   ],
   "source": [
    "from eliana.models import Strangelog\n",
    "subset_col='TPL_ID'\n",
    "\n",
    "model = Strangelog(tokenizer=colorizer, subset_col=subset_col)\n",
    "model.fit(meta_success, traces, warn=True)"
   ]
  },
  {
   "cell_type": "markdown",
   "metadata": {},
   "source": [
    "## Predict for SUCCESS executions\n",
    "\n",
    "SUCCESS should have very low instances of rare (2) and unexpected (3) events\n",
    "\n",
    "| Strangeness | Meaning | comment |\n",
    "|--------|---------|---------|\n",
    "| 0      | Boring  | Observed in 80% or more of the traces | \n",
    "| 1      | Common  | Observed in 20% - 80% of the traces   | \n",
    "| 2      | Rare    | Observed in 20% or less of the traces | \n",
    "| 3      | Unexpected | Never seen in the subset | "
   ]
  },
  {
   "cell_type": "code",
   "execution_count": 6,
   "metadata": {},
   "outputs": [
    {
     "name": "stdout",
     "output_type": "stream",
     "text": [
      "Strangeness for GRAVITY_gen_tec_checkFddl (Error = False)\n"
     ]
    },
    {
     "data": {
      "text/html": [
       "<div>\n",
       "<style scoped>\n",
       "    .dataframe tbody tr th:only-of-type {\n",
       "        vertical-align: middle;\n",
       "    }\n",
       "\n",
       "    .dataframe tbody tr th {\n",
       "        vertical-align: top;\n",
       "    }\n",
       "\n",
       "    .dataframe thead th {\n",
       "        text-align: right;\n",
       "    }\n",
       "</style>\n",
       "<table border=\"1\" class=\"dataframe\">\n",
       "  <thead>\n",
       "    <tr style=\"text-align: right;\">\n",
       "      <th></th>\n",
       "      <th>strangeness</th>\n",
       "      <th>count</th>\n",
       "    </tr>\n",
       "  </thead>\n",
       "  <tbody>\n",
       "    <tr>\n",
       "      <th>0</th>\n",
       "      <td>0</td>\n",
       "      <td>327</td>\n",
       "    </tr>\n",
       "    <tr>\n",
       "      <th>1</th>\n",
       "      <td>1</td>\n",
       "      <td>1</td>\n",
       "    </tr>\n",
       "  </tbody>\n",
       "</table>\n",
       "</div>"
      ],
      "text/plain": [
       "   strangeness  count\n",
       "0            0    327\n",
       "1            1      1"
      ]
     },
     "metadata": {},
     "output_type": "display_data"
    },
    {
     "name": "stdout",
     "output_type": "stream",
     "text": [
      "Strangeness for GRAVITY_gen_tec_AcqFibAOnAxis (Error = False)\n"
     ]
    },
    {
     "data": {
      "text/html": [
       "<div>\n",
       "<style scoped>\n",
       "    .dataframe tbody tr th:only-of-type {\n",
       "        vertical-align: middle;\n",
       "    }\n",
       "\n",
       "    .dataframe tbody tr th {\n",
       "        vertical-align: top;\n",
       "    }\n",
       "\n",
       "    .dataframe thead th {\n",
       "        text-align: right;\n",
       "    }\n",
       "</style>\n",
       "<table border=\"1\" class=\"dataframe\">\n",
       "  <thead>\n",
       "    <tr style=\"text-align: right;\">\n",
       "      <th></th>\n",
       "      <th>strangeness</th>\n",
       "      <th>count</th>\n",
       "    </tr>\n",
       "  </thead>\n",
       "  <tbody>\n",
       "    <tr>\n",
       "      <th>0</th>\n",
       "      <td>0</td>\n",
       "      <td>672</td>\n",
       "    </tr>\n",
       "    <tr>\n",
       "      <th>1</th>\n",
       "      <td>1</td>\n",
       "      <td>23</td>\n",
       "    </tr>\n",
       "  </tbody>\n",
       "</table>\n",
       "</div>"
      ],
      "text/plain": [
       "   strangeness  count\n",
       "0            0    672\n",
       "1            1     23"
      ]
     },
     "metadata": {},
     "output_type": "display_data"
    },
    {
     "name": "stdout",
     "output_type": "stream",
     "text": [
      "Strangeness for P2VMWAVESC (Error = False)\n"
     ]
    },
    {
     "data": {
      "text/html": [
       "<div>\n",
       "<style scoped>\n",
       "    .dataframe tbody tr th:only-of-type {\n",
       "        vertical-align: middle;\n",
       "    }\n",
       "\n",
       "    .dataframe tbody tr th {\n",
       "        vertical-align: top;\n",
       "    }\n",
       "\n",
       "    .dataframe thead th {\n",
       "        text-align: right;\n",
       "    }\n",
       "</style>\n",
       "<table border=\"1\" class=\"dataframe\">\n",
       "  <thead>\n",
       "    <tr style=\"text-align: right;\">\n",
       "      <th></th>\n",
       "      <th>strangeness</th>\n",
       "      <th>count</th>\n",
       "    </tr>\n",
       "  </thead>\n",
       "  <tbody>\n",
       "    <tr>\n",
       "      <th>0</th>\n",
       "      <td>0</td>\n",
       "      <td>3908</td>\n",
       "    </tr>\n",
       "    <tr>\n",
       "      <th>1</th>\n",
       "      <td>1</td>\n",
       "      <td>250</td>\n",
       "    </tr>\n",
       "    <tr>\n",
       "      <th>2</th>\n",
       "      <td>2</td>\n",
       "      <td>3</td>\n",
       "    </tr>\n",
       "  </tbody>\n",
       "</table>\n",
       "</div>"
      ],
      "text/plain": [
       "   strangeness  count\n",
       "0            0   3908\n",
       "1            1    250\n",
       "2            2      3"
      ]
     },
     "metadata": {},
     "output_type": "display_data"
    },
    {
     "name": "stdout",
     "output_type": "stream",
     "text": [
      "Strangeness for GRAVITY_gen_tec_SaveDb (Error = False)\n"
     ]
    },
    {
     "data": {
      "text/html": [
       "<div>\n",
       "<style scoped>\n",
       "    .dataframe tbody tr th:only-of-type {\n",
       "        vertical-align: middle;\n",
       "    }\n",
       "\n",
       "    .dataframe tbody tr th {\n",
       "        vertical-align: top;\n",
       "    }\n",
       "\n",
       "    .dataframe thead th {\n",
       "        text-align: right;\n",
       "    }\n",
       "</style>\n",
       "<table border=\"1\" class=\"dataframe\">\n",
       "  <thead>\n",
       "    <tr style=\"text-align: right;\">\n",
       "      <th></th>\n",
       "      <th>strangeness</th>\n",
       "      <th>count</th>\n",
       "    </tr>\n",
       "  </thead>\n",
       "  <tbody>\n",
       "    <tr>\n",
       "      <th>0</th>\n",
       "      <td>0</td>\n",
       "      <td>121</td>\n",
       "    </tr>\n",
       "  </tbody>\n",
       "</table>\n",
       "</div>"
      ],
      "text/plain": [
       "   strangeness  count\n",
       "0            0    121"
      ]
     },
     "metadata": {},
     "output_type": "display_data"
    },
    {
     "name": "stdout",
     "output_type": "stream",
     "text": [
      "Strangeness for P2VM (Error = False)\n"
     ]
    },
    {
     "data": {
      "text/html": [
       "<div>\n",
       "<style scoped>\n",
       "    .dataframe tbody tr th:only-of-type {\n",
       "        vertical-align: middle;\n",
       "    }\n",
       "\n",
       "    .dataframe tbody tr th {\n",
       "        vertical-align: top;\n",
       "    }\n",
       "\n",
       "    .dataframe thead th {\n",
       "        text-align: right;\n",
       "    }\n",
       "</style>\n",
       "<table border=\"1\" class=\"dataframe\">\n",
       "  <thead>\n",
       "    <tr style=\"text-align: right;\">\n",
       "      <th></th>\n",
       "      <th>strangeness</th>\n",
       "      <th>count</th>\n",
       "    </tr>\n",
       "  </thead>\n",
       "  <tbody>\n",
       "    <tr>\n",
       "      <th>0</th>\n",
       "      <td>0</td>\n",
       "      <td>5456</td>\n",
       "    </tr>\n",
       "  </tbody>\n",
       "</table>\n",
       "</div>"
      ],
      "text/plain": [
       "   strangeness  count\n",
       "0            0   5456"
      ]
     },
     "metadata": {},
     "output_type": "display_data"
    }
   ],
   "source": [
    "for row in meta_success.sample(5).itertuples():\n",
    "    print(f\"Strangeness for {row.TPL_ID} (Error = {row.ERROR})\")\n",
    "    labelled = model.predict(row.TPL_ID, traces[ traces['trace_id'] == row.Index ] )\n",
    "    display( labelled.groupby('strangeness').size().reset_index(name='count'))\n"
   ]
  },
  {
   "cell_type": "markdown",
   "metadata": {},
   "source": [
    "## Predict for ERROR executions\n",
    "\n",
    "ERRORS should have hign number of rare (2) and unexpected (3) events. And in general, the content of the unexpected should notify about the cause of errors.\n",
    "\n",
    "| Strangeness | Meaning | comment |\n",
    "|--------|---------|---------|\n",
    "| 0      | Boring  | Observed in 80% or more of the traces | \n",
    "| 1      | Common  | Observed in 20% - 80% of the traces   | \n",
    "| 2      | Rare    | Observed in 20% or less of the traces | \n",
    "| 3      | Unexpected | Never seen in the subset | "
   ]
  },
  {
   "cell_type": "code",
   "execution_count": 8,
   "metadata": {},
   "outputs": [
    {
     "name": "stdout",
     "output_type": "stream",
     "text": [
      "-------\n",
      "Unexpected events in GRAVITY_gen_cal_init (Error = True)\n",
      "\n",
      "['FLOG logManager UNFORSEEN template error'\n",
      " 'ERR gvimetServer tacERR_MOD_BLOCK Unable to modify block parameters controlMet'\n",
      " 'ERR gvimetServer tacERR_BLOCK_NAME Unknown block controlMet'\n",
      " 'ERR gvimetServer tacERR_SEND_REQUEST Request to RTController failed tacSHMSG_MODIFY_BLOCK'\n",
      " 'ERR bob_{} modify block parameters controlMet red'\n",
      " 'ERR bob_{} block parameters controlMet red']\n"
     ]
    },
    {
     "data": {
      "text/html": [
       "<div>\n",
       "<style scoped>\n",
       "    .dataframe tbody tr th:only-of-type {\n",
       "        vertical-align: middle;\n",
       "    }\n",
       "\n",
       "    .dataframe tbody tr th {\n",
       "        vertical-align: top;\n",
       "    }\n",
       "\n",
       "    .dataframe thead th {\n",
       "        text-align: right;\n",
       "    }\n",
       "</style>\n",
       "<table border=\"1\" class=\"dataframe\">\n",
       "  <thead>\n",
       "    <tr style=\"text-align: right;\">\n",
       "      <th></th>\n",
       "      <th>strangeness</th>\n",
       "      <th>count</th>\n",
       "    </tr>\n",
       "  </thead>\n",
       "  <tbody>\n",
       "    <tr>\n",
       "      <th>0</th>\n",
       "      <td>0</td>\n",
       "      <td>131</td>\n",
       "    </tr>\n",
       "    <tr>\n",
       "      <th>1</th>\n",
       "      <td>1</td>\n",
       "      <td>98</td>\n",
       "    </tr>\n",
       "    <tr>\n",
       "      <th>2</th>\n",
       "      <td>2</td>\n",
       "      <td>2</td>\n",
       "    </tr>\n",
       "    <tr>\n",
       "      <th>3</th>\n",
       "      <td>3</td>\n",
       "      <td>6</td>\n",
       "    </tr>\n",
       "  </tbody>\n",
       "</table>\n",
       "</div>"
      ],
      "text/plain": [
       "   strangeness  count\n",
       "0            0    131\n",
       "1            1     98\n",
       "2            2      2\n",
       "3            3      6"
      ]
     },
     "metadata": {},
     "output_type": "display_data"
    },
    {
     "name": "stdout",
     "output_type": "stream",
     "text": [
      "-------\n",
      "Unexpected events in GRAVITY_single_acq (Error = True)\n",
      "\n",
      "['FLOG logManager UNFORSEEN template error'\n",
      " 'ERR bob_{} Error during setup states red']\n"
     ]
    },
    {
     "data": {
      "text/html": [
       "<div>\n",
       "<style scoped>\n",
       "    .dataframe tbody tr th:only-of-type {\n",
       "        vertical-align: middle;\n",
       "    }\n",
       "\n",
       "    .dataframe tbody tr th {\n",
       "        vertical-align: top;\n",
       "    }\n",
       "\n",
       "    .dataframe thead th {\n",
       "        text-align: right;\n",
       "    }\n",
       "</style>\n",
       "<table border=\"1\" class=\"dataframe\">\n",
       "  <thead>\n",
       "    <tr style=\"text-align: right;\">\n",
       "      <th></th>\n",
       "      <th>strangeness</th>\n",
       "      <th>count</th>\n",
       "    </tr>\n",
       "  </thead>\n",
       "  <tbody>\n",
       "    <tr>\n",
       "      <th>0</th>\n",
       "      <td>0</td>\n",
       "      <td>1277</td>\n",
       "    </tr>\n",
       "    <tr>\n",
       "      <th>1</th>\n",
       "      <td>1</td>\n",
       "      <td>284</td>\n",
       "    </tr>\n",
       "    <tr>\n",
       "      <th>2</th>\n",
       "      <td>2</td>\n",
       "      <td>4</td>\n",
       "    </tr>\n",
       "    <tr>\n",
       "      <th>3</th>\n",
       "      <td>3</td>\n",
       "      <td>3</td>\n",
       "    </tr>\n",
       "  </tbody>\n",
       "</table>\n",
       "</div>"
      ],
      "text/plain": [
       "   strangeness  count\n",
       "0            0   1277\n",
       "1            1    284\n",
       "2            2      4\n",
       "3            3      3"
      ]
     },
     "metadata": {},
     "output_type": "display_data"
    },
    {
     "name": "stdout",
     "output_type": "stream",
     "text": [
      "-------\n",
      "Unexpected events in GRAVITY_dual_acq (Error = True)\n",
      "\n",
      "['LOG bob_{} SEQ FT MODE {}' 'LOG bob_{} SEQ FT ROBJ NAME AlphaCenB'\n",
      " 'LOG bob_{} SEQ INS SOBJ NAME {}' 'LOG bob_{} SEQ {} {}'\n",
      " 'LOG logBackupUtil Extract FITS logs from day {} to {}'\n",
      " 'LOG logBackupUtil Storing normal logs for the archive in file logFileArchive'\n",
      " 'LOG logBackupUtil Directory DHS_DATA set to vltdata ARCDATA'\n",
      " 'LOG logBackupUtil Append FITS logs to currentDay ops log'\n",
      " 'LOG bob_{} Setting up SP mode IN HIGH brown'\n",
      " 'LOG bob_{} Send command CONFMOD SP IN HIGH to process gvmonControl@wgv'\n",
      " 'LOG gvspcControl gvspcMAIN_TASK C {} Init Deregistered socket {} gvspcControl from rtdcoreServer'\n",
      " 'LOG gvspcControl gvspcMAIN_TASK C {} StopAllActions To be implemented'\n",
      " 'LOG gvspcControl gvspcMAIN_TASK C {} Init Registered as gvspcControl at rtdcoreServer with socket {}'\n",
      " 'LOG gvspcControl New subMode to be set {}'\n",
      " 'LOG gvspcControl gvspcMAIN_TASK C {} SetMode pixel and calibration files read'\n",
      " 'LOG bob_{} User set FT mode {}'\n",
      " 'LOG bob_{} Setting up FT mode IN {} brown'\n",
      " 'LOG bob_{} Send command CONFMOD FT IN {} to process gvmonControl@wgv'\n",
      " 'LOG gvipsServer SETPOLA npola {}' 'LOG gvipsServer SETFREQ freq {}']\n"
     ]
    },
    {
     "data": {
      "text/html": [
       "<div>\n",
       "<style scoped>\n",
       "    .dataframe tbody tr th:only-of-type {\n",
       "        vertical-align: middle;\n",
       "    }\n",
       "\n",
       "    .dataframe tbody tr th {\n",
       "        vertical-align: top;\n",
       "    }\n",
       "\n",
       "    .dataframe thead th {\n",
       "        text-align: right;\n",
       "    }\n",
       "</style>\n",
       "<table border=\"1\" class=\"dataframe\">\n",
       "  <thead>\n",
       "    <tr style=\"text-align: right;\">\n",
       "      <th></th>\n",
       "      <th>strangeness</th>\n",
       "      <th>count</th>\n",
       "    </tr>\n",
       "  </thead>\n",
       "  <tbody>\n",
       "    <tr>\n",
       "      <th>0</th>\n",
       "      <td>0</td>\n",
       "      <td>7023</td>\n",
       "    </tr>\n",
       "    <tr>\n",
       "      <th>1</th>\n",
       "      <td>2</td>\n",
       "      <td>155</td>\n",
       "    </tr>\n",
       "    <tr>\n",
       "      <th>2</th>\n",
       "      <td>3</td>\n",
       "      <td>185</td>\n",
       "    </tr>\n",
       "  </tbody>\n",
       "</table>\n",
       "</div>"
      ],
      "text/plain": [
       "   strangeness  count\n",
       "0            0   7023\n",
       "1            2    155\n",
       "2            3    185"
      ]
     },
     "metadata": {},
     "output_type": "display_data"
    },
    {
     "name": "stdout",
     "output_type": "stream",
     "text": [
      "-------\n",
      "Unexpected events in GRAVITY_gen_cal_init (Error = True)\n",
      "\n",
      "['ERR gvimtfsMon000 gviserERR_COM_TIMEOUT Serial device timeout fd {}'\n",
      " 'ERR gvimtfsMon000 gvimtfsERR_GENERAL Device mtfs Error reading from serial port'\n",
      " 'ERR gvimtfsMon000 gvimtfsERR_GENERAL Device mtfs Sending Cmd receiving Reply for CON?'\n",
      " 'FLOG logManager UNFORSEEN template error'\n",
      " 'ERR gvimtfsServer gvimtfsERR_GENERAL Device mtfs Cannot take semaphore after'\n",
      " 'ERR gvimtfsServer gvimtfsERR_CMD_REPLY Device mtfs Sending Cmd receiving Reply for CON {} {} failed'\n",
      " 'ERR gvoControl bossERR_SUBSYSTEM_REPLY Error reply received from sub system ICS for command SETUP'\n",
      " 'ERR gvimtfsServer lcctooERR_SEM_TAKE Take semaphore failed vxWorks error {}'\n",
      " 'ERR gvoControl evhERR_CMD_ERR_REPLY Received an error reply to command SETUP from process gviControl on environment wgv'\n",
      " 'ERR gvoControl bossERR_CMD_FAILED Error during the execution of command SETUP'\n",
      " 'LOG gvoControl SETUP command failed'\n",
      " 'ERR bob_{} Error during the execution of command SETUP red']\n"
     ]
    },
    {
     "data": {
      "text/html": [
       "<div>\n",
       "<style scoped>\n",
       "    .dataframe tbody tr th:only-of-type {\n",
       "        vertical-align: middle;\n",
       "    }\n",
       "\n",
       "    .dataframe tbody tr th {\n",
       "        vertical-align: top;\n",
       "    }\n",
       "\n",
       "    .dataframe thead th {\n",
       "        text-align: right;\n",
       "    }\n",
       "</style>\n",
       "<table border=\"1\" class=\"dataframe\">\n",
       "  <thead>\n",
       "    <tr style=\"text-align: right;\">\n",
       "      <th></th>\n",
       "      <th>strangeness</th>\n",
       "      <th>count</th>\n",
       "    </tr>\n",
       "  </thead>\n",
       "  <tbody>\n",
       "    <tr>\n",
       "      <th>0</th>\n",
       "      <td>0</td>\n",
       "      <td>53</td>\n",
       "    </tr>\n",
       "    <tr>\n",
       "      <th>1</th>\n",
       "      <td>1</td>\n",
       "      <td>86</td>\n",
       "    </tr>\n",
       "    <tr>\n",
       "      <th>2</th>\n",
       "      <td>2</td>\n",
       "      <td>3</td>\n",
       "    </tr>\n",
       "    <tr>\n",
       "      <th>3</th>\n",
       "      <td>3</td>\n",
       "      <td>16</td>\n",
       "    </tr>\n",
       "  </tbody>\n",
       "</table>\n",
       "</div>"
      ],
      "text/plain": [
       "   strangeness  count\n",
       "0            0     53\n",
       "1            1     86\n",
       "2            2      3\n",
       "3            3     16"
      ]
     },
     "metadata": {},
     "output_type": "display_data"
    },
    {
     "name": "stdout",
     "output_type": "stream",
     "text": [
      "-------\n",
      "Unexpected events in GRAVITY_gen_tec_checkMetZero (Error = True)\n",
      "\n",
      "['LOG gvmonControl errAdd parameter error is a NULL pointer errID {} module db location dbReadDirect c {}'\n",
      " 'LOG gvmonControl errAdd parameter error is a NULL pointer errID {} module cai location caiGetAttributes c {}'\n",
      " 'LOG gvmonControl errAdd parameter error is a NULL pointer errID {} module cai location caiRWAttribute c {}'\n",
      " 'FLOG logManager UNFORSEEN {} LOCAL alias lgvmet scanningStatus {} Normal Scan system alarm for device pointName check device status'\n",
      " 'FLOG logManager UNFORSEEN {} LOCAL alias lgvmet scanningStatus {} Fatal Scan system alarm for device pointName check device status'\n",
      " 'LOG alrmLogger wgv {} LOCAL alias lgvmet scanningStatus {} Normal'\n",
      " 'LOG alrmLogger wgv {} LOCAL alias lgvmet scanningStatus {} Fatal'\n",
      " 'ERR ccsScanInit ccsERR_SCAN_FCT_CALL Error occurred in function ccsScanSend'\n",
      " 'ERR bob_{} ccsERR_DB_QUALITY Point alias LCU lgvmet tacSimulation has Bad Data Quality SUSPECT'\n",
      " 'ERR bob_{} seqERR_BAD_QUALITY alias LCU lgvmet tacSimulation has bad quality'\n",
      " 'ERR scaneiEnvStatus_{} seqERR_BAD_QUALITY alias P881 running has bad quality'\n",
      " 'ERR scaneiEnvStatus_{} ccsERR_DB_QUALITY Point alias P881 running has Bad Data Quality SUSPECT'\n",
      " 'FLOG logManager UNFORSEEN {} LOCAL alias lgvmet scanningStatus {} Serious Scan system alarm for device pointName check device status'\n",
      " 'ERR ccsScan ccsERR_SCAN_FCT_CALL Error occurred in function rtDisableDevice device currently in RESTART mode'\n",
      " 'LOG alrmLogger wgv {} LOCAL alias lgvmet scanningStatus {} Serious'\n",
      " 'LOG lccServer Reboot with system reset from command LCCBOOT'\n",
      " 'ERR gviControl ccsERR_MSG_TIMEOUT Timeout on message receive'\n",
      " 'LOG gviControl ccsReplace c {} {} {} {} W rtE_MSGTO timeout while waiting for acknowledgement from wgv REASON Interrupted system call errno {}'\n",
      " 'ERR gviControl ccsERR_DB_LCU Fail of DBREAD in env lgvmet on element alias gvimet data sens{}anin{}'\n",
      " 'LOG qsemu qsemuThread c {} close connection to environment lgvmet']\n"
     ]
    },
    {
     "data": {
      "text/html": [
       "<div>\n",
       "<style scoped>\n",
       "    .dataframe tbody tr th:only-of-type {\n",
       "        vertical-align: middle;\n",
       "    }\n",
       "\n",
       "    .dataframe tbody tr th {\n",
       "        vertical-align: top;\n",
       "    }\n",
       "\n",
       "    .dataframe thead th {\n",
       "        text-align: right;\n",
       "    }\n",
       "</style>\n",
       "<table border=\"1\" class=\"dataframe\">\n",
       "  <thead>\n",
       "    <tr style=\"text-align: right;\">\n",
       "      <th></th>\n",
       "      <th>strangeness</th>\n",
       "      <th>count</th>\n",
       "    </tr>\n",
       "  </thead>\n",
       "  <tbody>\n",
       "    <tr>\n",
       "      <th>0</th>\n",
       "      <td>0</td>\n",
       "      <td>1759</td>\n",
       "    </tr>\n",
       "    <tr>\n",
       "      <th>1</th>\n",
       "      <td>2</td>\n",
       "      <td>12</td>\n",
       "    </tr>\n",
       "    <tr>\n",
       "      <th>2</th>\n",
       "      <td>3</td>\n",
       "      <td>4031</td>\n",
       "    </tr>\n",
       "  </tbody>\n",
       "</table>\n",
       "</div>"
      ],
      "text/plain": [
       "   strangeness  count\n",
       "0            0   1759\n",
       "1            2     12\n",
       "2            3   4031"
      ]
     },
     "metadata": {},
     "output_type": "display_data"
    }
   ],
   "source": [
    "for row in meta_errors.sample(5).itertuples():\n",
    "    print(f\"-------\\nUnexpected events in {row.TPL_ID} (Error = {row.ERROR})\")\n",
    "    trace = traces[ traces['trace_id'] == row.Index ]\n",
    "    labelled = model.predict(row.TPL_ID, trace )\n",
    "    unexpected = labelled[ labelled['strangeness'] == 3 ]\n",
    "    unexpected['color'] = unexpected['event'].apply(colorizer.tokenize)\n",
    "    print()\n",
    "    print( unexpected['color'].unique()[:20] )\n",
    "    display( labelled.groupby('strangeness').size().reset_index(name='count'))\n"
   ]
  }
 ],
 "metadata": {
  "kernelspec": {
   "display_name": "venv",
   "language": "python",
   "name": "python3"
  },
  "language_info": {
   "codemirror_mode": {
    "name": "ipython",
    "version": 3
   },
   "file_extension": ".py",
   "mimetype": "text/x-python",
   "name": "python",
   "nbconvert_exporter": "python",
   "pygments_lexer": "ipython3",
   "version": "3.10.9"
  }
 },
 "nbformat": 4,
 "nbformat_minor": 2
}
