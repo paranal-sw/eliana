{
 "cells": [
  {
   "cell_type": "markdown",
   "metadata": {},
   "source": [
    "# Model Strangelog\n",
    "Statistical approach to label anomalies in event logs based on percentile analysis of tokenized events.\n",
    "\n",
    "It returns a labelled dataframe from a test df_trace with new column 'strangeness' for each event:\n",
    "\n",
    "| Strangeness | Meaning | comment |\n",
    "|--------|---------|---------|\n",
    "| 0      | Boring  | Observed in 80% or more of the traces | \n",
    "| 1      | Common  | Observed in 20% - 80% of the traces   | \n",
    "| 2      | Rare    | Observed in 20% or less of the traces | \n",
    "| 3      | Unexpected | Never seen in the subset | \n",
    "\n",
    "**Requires**\n",
    "- log dataset from high level task\n",
    "- LogColor instance pretrained with similar dataset\n",
    "- A subset column with a partition of similar task executions. For example, TPL_ID."
   ]
  },
  {
   "cell_type": "markdown",
   "metadata": {},
   "source": [
    "### Example: traces grouped by TPL_ID"
   ]
  },
  {
   "cell_type": "code",
   "execution_count": 1,
   "metadata": {},
   "outputs": [],
   "source": [
    "# Init the public dataset\n",
    "from eliana.datasets import ParlogsObservations\n",
    "logs = ParlogsObservations(system=\"GRAVITY\", period=\"1w\")"
   ]
  },
  {
   "cell_type": "code",
   "execution_count": 2,
   "metadata": {},
   "outputs": [
    {
     "name": "stdout",
     "output_type": "stream",
     "text": [
      "In GRAVITY, from 152 executions, Success: 128; Error: 24\n"
     ]
    }
   ],
   "source": [
    "# Partition in success and errors\n",
    "meta_success = logs.meta[ logs.meta['ERROR'] == False ]\n",
    "meta_errors  = logs.meta[ logs.meta['ERROR'] == True ]\n",
    "print(f'In {logs.system}, from {len(logs.meta)} executions, Success: {len(meta_success)}; Error: {len(meta_errors)}')"
   ]
  },
  {
   "cell_type": "code",
   "execution_count": 3,
   "metadata": {},
   "outputs": [
    {
     "name": "stdout",
     "output_type": "stream",
     "text": [
      "Loaded 316207 traces\n"
     ]
    }
   ],
   "source": [
    "# Train Log Colorizer\n",
    "traces = logs.traces()\n",
    "print(f'Loaded {len(traces)} traces')"
   ]
  },
  {
   "cell_type": "code",
   "execution_count": 4,
   "metadata": {},
   "outputs": [
    {
     "name": "stderr",
     "output_type": "stream",
     "text": [
      "WARNING:root:Unique colors with no tokenization = 53004\n",
      "WARNING:root:Pass 1/4: Raw Tokenizer\n",
      "WARNING:root:Pass 1/4: -- Done! {'new vocab': 3568, 'compression': '93.27%'}\n",
      "WARNING:root:Pass 2/4: Parametrize numbers of low freq tokens\n",
      "WARNING:root:Pass 2/4: -- # of low freq tokens: 965\n",
      "WARNING:root:Pass 2/4: -- Done! {'new vocab': 2009, 'compression': '96.21%'}\n",
      "WARNING:root:Pass 3/4: Remove numbers in similar alphanum tokens\n",
      "WARNING:root:Pass 3/4: -- Repeated alphanum tokens with length >= 5:\n",
      "WARNING:root:Pass 3/4: -- ['FAFT§']\n",
      "WARNING:root:Pass 3/4: -- Done! {'new vocab': 1972, 'compression': '96.28%'}\n",
      "WARNING:root:Pass 4/4: Token Frequency Vector (TFV) optimization\n",
      "WARNING:root:Pass 4/4: -- THRESHOLD_LOW_F_COLOR = 15.0\n",
      "WARNING:root:Pass 4/4: -- Number of Low Frequency Colors: 1079\n",
      "WARNING:root:Pass 4/4: -- Generate the Token Frequency Vectors (TFV)\n",
      "WARNING:root:Pass 4/4: -- Clusterize by TFV_size and replace rare events\n",
      "WARNING:root:Pass 4/4: Done! {'new vocab': 1612, 'compression': '96.96%'}\n",
      "WARNING:root:------- Results -------\n",
      "WARNING:root:   Templates found: 62\n",
      "WARNING:root:   Regexps found: 111\n",
      "WARNING:root:   Vocabulary Size: 1613 (unique colors)\n",
      "WARNING:root:   Compression: 96.96%\n",
      "WARNING:root:Finished!\n"
     ]
    }
   ],
   "source": [
    "from eliana.preprocessing import LogColorizer, VltTokenizer\n",
    "colorizer = LogColorizer(tokenizer=VltTokenizer(to_lowercase=False))\n",
    "_ = colorizer.fit(traces, warn=True)"
   ]
  },
  {
   "cell_type": "markdown",
   "metadata": {},
   "source": [
    "## Train Strangelog model"
   ]
  },
  {
   "cell_type": "code",
   "execution_count": 5,
   "metadata": {},
   "outputs": [
    {
     "name": "stderr",
     "output_type": "stream",
     "text": [
      "WARNING:root:Pass 1/3: Tokenize traces\n",
      "WARNING:root:Pass 1/3: Tokenize traces -- Done!\n",
      "WARNING:root:Pass 2/3: Vector encodings\n",
      "WARNING:root:Pass 2/3: Vector encodings -- Done!\n",
      "WARNING:root:Pass 3/3: Compute strangeness\n",
      "WARNING:root:Pass 3/3: Compute strangeness -- Done!\n",
      "WARNING:root:------- Results -------\n",
      "WARNING:root:   [subset]            : {c_boring}, {c_common}, {c_rare}, {c_unexpected}\n",
      "WARNING:root:   GRAVITY_single_acq  : 135, 244, 74, 1160\n",
      "WARNING:root:   GRAVITY_single_obs_calibrator: 132, 107, 12, 1362\n",
      "WARNING:root:   GRAVITY_dual_obs_exp: 227, 0, 19, 1367\n",
      "WARNING:root:   GRAVITY_dual_acq    : 273, 0, 110, 1230\n",
      "WARNING:root:   GRAVITY_gen_cal_init: 107, 338, 59, 1109\n",
      "WARNING:root:   GRAVITY_gen_cal_p2vm: 166, 93, 299, 1055\n",
      "WARNING:root:   P2VMWAVESC          : 194, 55, 47, 1317\n",
      "WARNING:root:   GRAVITY_gen_cal_dark: 129, 67, 125, 1292\n",
      "WARNING:root:   GRAVITY_gen_cal_standby: 36, 41, 27, 1509\n",
      "WARNING:root:   GRAVITY_gen_tec_checkFddl: 98, 4, 4, 1507\n",
      "WARNING:root:   GRAVITY_gen_tec_checkMetZero: 350, 2, 8, 1253\n",
      "WARNING:root:   GRAVITY_gen_tec_AcqFibAOnAxis: 135, 24, 0, 1454\n",
      "WARNING:root:   GRAVITY_gen_tec_AcqFibA: 153, 5, 0, 1455\n",
      "WARNING:root:   GRAVITY_gen_tec_AcqFibB: 156, 16, 39, 1402\n",
      "WARNING:root:   GRAVITY_gen_tec_RoofPos: 29, 0, 0, 1584\n",
      "WARNING:root:   GRAVITY_gen_tec_PTref: 108, 1, 0, 1504\n",
      "WARNING:root:   GRAVITY_gen_tec_WFSref: 114, 0, 1, 1498\n",
      "WARNING:root:   GRAVITY_gen_tec_SaveDb: 53, 2, 1, 1557\n",
      "WARNING:root:   P2VM                : 300, 0, 0, 1313\n",
      "WARNING:root:Finished!\n"
     ]
    }
   ],
   "source": [
    "from eliana.models import Strangelog\n",
    "subset_col='TPL_ID'\n",
    "\n",
    "model = Strangelog(tokenizer=colorizer, subset_col=subset_col)\n",
    "model.fit(meta_success, traces, warn=True)"
   ]
  },
  {
   "cell_type": "markdown",
   "metadata": {},
   "source": [
    "## Predict for SUCCESS executions\n",
    "\n",
    "SUCCESS should have very low instances of rare (2) and unexpected (3) events\n",
    "\n",
    "| Strangeness | Meaning | comment |\n",
    "|--------|---------|---------|\n",
    "| 0      | Boring  | Observed in 80% or more of the traces | \n",
    "| 1      | Common  | Observed in 20% - 80% of the traces   | \n",
    "| 2      | Rare    | Observed in 20% or less of the traces | \n",
    "| 3      | Unexpected | Never seen in the subset | "
   ]
  },
  {
   "cell_type": "code",
   "execution_count": 6,
   "metadata": {},
   "outputs": [
    {
     "name": "stdout",
     "output_type": "stream",
     "text": [
      "Strangeness for GRAVITY_gen_tec_RoofPos (Error = False)\n"
     ]
    },
    {
     "data": {
      "text/html": [
       "<div>\n",
       "<style scoped>\n",
       "    .dataframe tbody tr th:only-of-type {\n",
       "        vertical-align: middle;\n",
       "    }\n",
       "\n",
       "    .dataframe tbody tr th {\n",
       "        vertical-align: top;\n",
       "    }\n",
       "\n",
       "    .dataframe thead th {\n",
       "        text-align: right;\n",
       "    }\n",
       "</style>\n",
       "<table border=\"1\" class=\"dataframe\">\n",
       "  <thead>\n",
       "    <tr style=\"text-align: right;\">\n",
       "      <th></th>\n",
       "      <th>strangeness</th>\n",
       "      <th>count</th>\n",
       "    </tr>\n",
       "  </thead>\n",
       "  <tbody>\n",
       "    <tr>\n",
       "      <th>0</th>\n",
       "      <td>0</td>\n",
       "      <td>112</td>\n",
       "    </tr>\n",
       "  </tbody>\n",
       "</table>\n",
       "</div>"
      ],
      "text/plain": [
       "   strangeness  count\n",
       "0            0    112"
      ]
     },
     "metadata": {},
     "output_type": "display_data"
    },
    {
     "name": "stdout",
     "output_type": "stream",
     "text": [
      "Strangeness for GRAVITY_gen_tec_AcqFibA (Error = False)\n"
     ]
    },
    {
     "data": {
      "text/html": [
       "<div>\n",
       "<style scoped>\n",
       "    .dataframe tbody tr th:only-of-type {\n",
       "        vertical-align: middle;\n",
       "    }\n",
       "\n",
       "    .dataframe tbody tr th {\n",
       "        vertical-align: top;\n",
       "    }\n",
       "\n",
       "    .dataframe thead th {\n",
       "        text-align: right;\n",
       "    }\n",
       "</style>\n",
       "<table border=\"1\" class=\"dataframe\">\n",
       "  <thead>\n",
       "    <tr style=\"text-align: right;\">\n",
       "      <th></th>\n",
       "      <th>strangeness</th>\n",
       "      <th>count</th>\n",
       "    </tr>\n",
       "  </thead>\n",
       "  <tbody>\n",
       "    <tr>\n",
       "      <th>0</th>\n",
       "      <td>0</td>\n",
       "      <td>696</td>\n",
       "    </tr>\n",
       "    <tr>\n",
       "      <th>1</th>\n",
       "      <td>1</td>\n",
       "      <td>5</td>\n",
       "    </tr>\n",
       "  </tbody>\n",
       "</table>\n",
       "</div>"
      ],
      "text/plain": [
       "   strangeness  count\n",
       "0            0    696\n",
       "1            1      5"
      ]
     },
     "metadata": {},
     "output_type": "display_data"
    },
    {
     "name": "stdout",
     "output_type": "stream",
     "text": [
      "Strangeness for GRAVITY_gen_cal_init (Error = False)\n"
     ]
    },
    {
     "data": {
      "text/html": [
       "<div>\n",
       "<style scoped>\n",
       "    .dataframe tbody tr th:only-of-type {\n",
       "        vertical-align: middle;\n",
       "    }\n",
       "\n",
       "    .dataframe tbody tr th {\n",
       "        vertical-align: top;\n",
       "    }\n",
       "\n",
       "    .dataframe thead th {\n",
       "        text-align: right;\n",
       "    }\n",
       "</style>\n",
       "<table border=\"1\" class=\"dataframe\">\n",
       "  <thead>\n",
       "    <tr style=\"text-align: right;\">\n",
       "      <th></th>\n",
       "      <th>strangeness</th>\n",
       "      <th>count</th>\n",
       "    </tr>\n",
       "  </thead>\n",
       "  <tbody>\n",
       "    <tr>\n",
       "      <th>0</th>\n",
       "      <td>0</td>\n",
       "      <td>306</td>\n",
       "    </tr>\n",
       "    <tr>\n",
       "      <th>1</th>\n",
       "      <td>1</td>\n",
       "      <td>389</td>\n",
       "    </tr>\n",
       "    <tr>\n",
       "      <th>2</th>\n",
       "      <td>2</td>\n",
       "      <td>2</td>\n",
       "    </tr>\n",
       "  </tbody>\n",
       "</table>\n",
       "</div>"
      ],
      "text/plain": [
       "   strangeness  count\n",
       "0            0    306\n",
       "1            1    389\n",
       "2            2      2"
      ]
     },
     "metadata": {},
     "output_type": "display_data"
    },
    {
     "name": "stdout",
     "output_type": "stream",
     "text": [
      "Strangeness for GRAVITY_gen_cal_init (Error = False)\n"
     ]
    },
    {
     "data": {
      "text/html": [
       "<div>\n",
       "<style scoped>\n",
       "    .dataframe tbody tr th:only-of-type {\n",
       "        vertical-align: middle;\n",
       "    }\n",
       "\n",
       "    .dataframe tbody tr th {\n",
       "        vertical-align: top;\n",
       "    }\n",
       "\n",
       "    .dataframe thead th {\n",
       "        text-align: right;\n",
       "    }\n",
       "</style>\n",
       "<table border=\"1\" class=\"dataframe\">\n",
       "  <thead>\n",
       "    <tr style=\"text-align: right;\">\n",
       "      <th></th>\n",
       "      <th>strangeness</th>\n",
       "      <th>count</th>\n",
       "    </tr>\n",
       "  </thead>\n",
       "  <tbody>\n",
       "    <tr>\n",
       "      <th>0</th>\n",
       "      <td>0</td>\n",
       "      <td>1526</td>\n",
       "    </tr>\n",
       "    <tr>\n",
       "      <th>1</th>\n",
       "      <td>1</td>\n",
       "      <td>1013</td>\n",
       "    </tr>\n",
       "  </tbody>\n",
       "</table>\n",
       "</div>"
      ],
      "text/plain": [
       "   strangeness  count\n",
       "0            0   1526\n",
       "1            1   1013"
      ]
     },
     "metadata": {},
     "output_type": "display_data"
    },
    {
     "name": "stdout",
     "output_type": "stream",
     "text": [
      "Strangeness for GRAVITY_gen_cal_init (Error = False)\n"
     ]
    },
    {
     "data": {
      "text/html": [
       "<div>\n",
       "<style scoped>\n",
       "    .dataframe tbody tr th:only-of-type {\n",
       "        vertical-align: middle;\n",
       "    }\n",
       "\n",
       "    .dataframe tbody tr th {\n",
       "        vertical-align: top;\n",
       "    }\n",
       "\n",
       "    .dataframe thead th {\n",
       "        text-align: right;\n",
       "    }\n",
       "</style>\n",
       "<table border=\"1\" class=\"dataframe\">\n",
       "  <thead>\n",
       "    <tr style=\"text-align: right;\">\n",
       "      <th></th>\n",
       "      <th>strangeness</th>\n",
       "      <th>count</th>\n",
       "    </tr>\n",
       "  </thead>\n",
       "  <tbody>\n",
       "    <tr>\n",
       "      <th>0</th>\n",
       "      <td>0</td>\n",
       "      <td>759</td>\n",
       "    </tr>\n",
       "    <tr>\n",
       "      <th>1</th>\n",
       "      <td>1</td>\n",
       "      <td>971</td>\n",
       "    </tr>\n",
       "    <tr>\n",
       "      <th>2</th>\n",
       "      <td>2</td>\n",
       "      <td>30</td>\n",
       "    </tr>\n",
       "  </tbody>\n",
       "</table>\n",
       "</div>"
      ],
      "text/plain": [
       "   strangeness  count\n",
       "0            0    759\n",
       "1            1    971\n",
       "2            2     30"
      ]
     },
     "metadata": {},
     "output_type": "display_data"
    }
   ],
   "source": [
    "for row in meta_success.sample(5).itertuples():\n",
    "    print(f\"Strangeness for {row.TPL_ID} (Error = {row.ERROR})\")\n",
    "    labelled = model.predict(row.TPL_ID, traces[ traces['trace_id'] == row.Index ] )\n",
    "    display( labelled.groupby('strangeness').size().reset_index(name='count'))\n"
   ]
  },
  {
   "cell_type": "markdown",
   "metadata": {},
   "source": [
    "## Predict for ERROR executions\n",
    "\n",
    "ERRORS should have hign number of rare (2) and unexpected (3) events. And in general, the content of the unexpected should notify about the cause of errors.\n",
    "\n",
    "| Strangeness | Meaning | comment |\n",
    "|--------|---------|---------|\n",
    "| 0      | Boring  | Observed in 80% or more of the traces | \n",
    "| 1      | Common  | Observed in 20% - 80% of the traces   | \n",
    "| 2      | Rare    | Observed in 20% or less of the traces | \n",
    "| 3      | Unexpected | Never seen in the subset | "
   ]
  },
  {
   "cell_type": "code",
   "execution_count": 7,
   "metadata": {},
   "outputs": [
    {
     "name": "stdout",
     "output_type": "stream",
     "text": [
      "-------\n",
      "Unexpected events in GRAVITY_single_acq (Error = True)\n",
      "\n",
      "['FLOG logManager UNFORSEEN template error'\n",
      " 'ERR bob_{} Error during setup states red']\n"
     ]
    },
    {
     "data": {
      "text/html": [
       "<div>\n",
       "<style scoped>\n",
       "    .dataframe tbody tr th:only-of-type {\n",
       "        vertical-align: middle;\n",
       "    }\n",
       "\n",
       "    .dataframe tbody tr th {\n",
       "        vertical-align: top;\n",
       "    }\n",
       "\n",
       "    .dataframe thead th {\n",
       "        text-align: right;\n",
       "    }\n",
       "</style>\n",
       "<table border=\"1\" class=\"dataframe\">\n",
       "  <thead>\n",
       "    <tr style=\"text-align: right;\">\n",
       "      <th></th>\n",
       "      <th>strangeness</th>\n",
       "      <th>count</th>\n",
       "    </tr>\n",
       "  </thead>\n",
       "  <tbody>\n",
       "    <tr>\n",
       "      <th>0</th>\n",
       "      <td>0</td>\n",
       "      <td>1277</td>\n",
       "    </tr>\n",
       "    <tr>\n",
       "      <th>1</th>\n",
       "      <td>1</td>\n",
       "      <td>284</td>\n",
       "    </tr>\n",
       "    <tr>\n",
       "      <th>2</th>\n",
       "      <td>2</td>\n",
       "      <td>4</td>\n",
       "    </tr>\n",
       "    <tr>\n",
       "      <th>3</th>\n",
       "      <td>3</td>\n",
       "      <td>3</td>\n",
       "    </tr>\n",
       "  </tbody>\n",
       "</table>\n",
       "</div>"
      ],
      "text/plain": [
       "   strangeness  count\n",
       "0            0   1277\n",
       "1            1    284\n",
       "2            2      4\n",
       "3            3      3"
      ]
     },
     "metadata": {},
     "output_type": "display_data"
    },
    {
     "name": "stdout",
     "output_type": "stream",
     "text": [
      "-------\n",
      "Unexpected events in GRAVITY_single_acq (Error = True)\n",
      "\n",
      "['FLOG logManager UNFORSEEN template error'\n",
      " 'LOG bob_{} ERROR performing command SETUP INFO Preset telescopes to FREE position red'\n",
      " 'LOG bob_{} INFO Stop Coude auto guiding red' 'ERR bob_{} PRESET red']\n"
     ]
    },
    {
     "data": {
      "text/html": [
       "<div>\n",
       "<style scoped>\n",
       "    .dataframe tbody tr th:only-of-type {\n",
       "        vertical-align: middle;\n",
       "    }\n",
       "\n",
       "    .dataframe tbody tr th {\n",
       "        vertical-align: top;\n",
       "    }\n",
       "\n",
       "    .dataframe thead th {\n",
       "        text-align: right;\n",
       "    }\n",
       "</style>\n",
       "<table border=\"1\" class=\"dataframe\">\n",
       "  <thead>\n",
       "    <tr style=\"text-align: right;\">\n",
       "      <th></th>\n",
       "      <th>strangeness</th>\n",
       "      <th>count</th>\n",
       "    </tr>\n",
       "  </thead>\n",
       "  <tbody>\n",
       "    <tr>\n",
       "      <th>0</th>\n",
       "      <td>0</td>\n",
       "      <td>163</td>\n",
       "    </tr>\n",
       "    <tr>\n",
       "      <th>1</th>\n",
       "      <td>1</td>\n",
       "      <td>98</td>\n",
       "    </tr>\n",
       "    <tr>\n",
       "      <th>2</th>\n",
       "      <td>3</td>\n",
       "      <td>4</td>\n",
       "    </tr>\n",
       "  </tbody>\n",
       "</table>\n",
       "</div>"
      ],
      "text/plain": [
       "   strangeness  count\n",
       "0            0    163\n",
       "1            1     98\n",
       "2            3      4"
      ]
     },
     "metadata": {},
     "output_type": "display_data"
    },
    {
     "name": "stdout",
     "output_type": "stream",
     "text": [
      "-------\n",
      "Unexpected events in GRAVITY_dual_acq (Error = True)\n",
      "\n",
      "['LOG bob_{} Configure PSD ATM to start PSF scan blue'\n",
      " 'LOG bob_{} Beam 1x psf {} 011ttp {} {} difference {} green4'\n",
      " 'LOG bob_{} Beam 1y psf {} 011ttp {} {} difference {} green4'\n",
      " 'LOG bob_{} Beam 2x psf {} 011ttp {} {} difference {} green4'\n",
      " 'LOG bob_{} Beam 2y psf {} 011ttp {} {} difference {} green4'\n",
      " 'LOG bob_{} Beam 3x psf {} 011ttp {} {} difference {} green4'\n",
      " 'LOG bob_{} Beam 3y psf {} 011ttp {} {} difference {} green4'\n",
      " 'LOG bob_{} Beam 4x psf {} 011ttp {} {} difference {} green4'\n",
      " 'LOG bob_{} Beam 4y psf {} 011ttp {} {} difference {} green4'\n",
      " 'LOG bob_{} Send command SETPTFI {} REL TipTiltPiston {} {} to process gvttpControl@wgv'\n",
      " 'LOG bob_{} PSF Scan was applied for all beams'\n",
      " 'LOG bob_{} Pick Manually'\n",
      " 'LOG bob_{} Send command CONVABS {} FiberPosB AcqCam {} {} to process gvctuControl@wgv'\n",
      " 'LOG bob_{} Send command CONVABS {} AcqCam FiberPosB {} {} to process gvctuControl@wgv'\n",
      " 'LOG bob_{} SETUP noExposure noExposure function INS FAFT{} MVAX {} INS FAFT{} MVAY {} blue'\n",
      " 'LOG bob_{} Send command STRTLP PUPIL_LATERAL INTERN {} {} to process gvttpControl@wgv'\n",
      " 'LOG bob_{} Start Metrology Based Separation Tracking? Note Only if SobjX and SobjY are precisely known brown'\n",
      " 'LOG bob_{} {} {} {} {}'\n",
      " 'LOG bob_{} Send command SETOFF {} to process gviopdcServer@lgvft2'\n",
      " 'LOG gviopdcServer SETOFF choose {}']\n"
     ]
    },
    {
     "data": {
      "text/html": [
       "<div>\n",
       "<style scoped>\n",
       "    .dataframe tbody tr th:only-of-type {\n",
       "        vertical-align: middle;\n",
       "    }\n",
       "\n",
       "    .dataframe tbody tr th {\n",
       "        vertical-align: top;\n",
       "    }\n",
       "\n",
       "    .dataframe thead th {\n",
       "        text-align: right;\n",
       "    }\n",
       "</style>\n",
       "<table border=\"1\" class=\"dataframe\">\n",
       "  <thead>\n",
       "    <tr style=\"text-align: right;\">\n",
       "      <th></th>\n",
       "      <th>strangeness</th>\n",
       "      <th>count</th>\n",
       "    </tr>\n",
       "  </thead>\n",
       "  <tbody>\n",
       "    <tr>\n",
       "      <th>0</th>\n",
       "      <td>0</td>\n",
       "      <td>4613</td>\n",
       "    </tr>\n",
       "    <tr>\n",
       "      <th>1</th>\n",
       "      <td>2</td>\n",
       "      <td>217</td>\n",
       "    </tr>\n",
       "    <tr>\n",
       "      <th>2</th>\n",
       "      <td>3</td>\n",
       "      <td>79</td>\n",
       "    </tr>\n",
       "  </tbody>\n",
       "</table>\n",
       "</div>"
      ],
      "text/plain": [
       "   strangeness  count\n",
       "0            0   4613\n",
       "1            2    217\n",
       "2            3     79"
      ]
     },
     "metadata": {},
     "output_type": "display_data"
    },
    {
     "name": "stdout",
     "output_type": "stream",
     "text": [
      "-------\n",
      "Unexpected events in GRAVITY_dual_acq (Error = True)\n",
      "\n",
      "['FLOG logManager UNFORSEEN template error' 'ERR bob_{} PRESET red'\n",
      " 'LOG bob_{} ERROR performing command SETUP INFO Preset telescopes to FREE position red'\n",
      " 'LOG bob_{} INFO Stop Coude auto guiding red']\n"
     ]
    },
    {
     "data": {
      "text/html": [
       "<div>\n",
       "<style scoped>\n",
       "    .dataframe tbody tr th:only-of-type {\n",
       "        vertical-align: middle;\n",
       "    }\n",
       "\n",
       "    .dataframe tbody tr th {\n",
       "        vertical-align: top;\n",
       "    }\n",
       "\n",
       "    .dataframe thead th {\n",
       "        text-align: right;\n",
       "    }\n",
       "</style>\n",
       "<table border=\"1\" class=\"dataframe\">\n",
       "  <thead>\n",
       "    <tr style=\"text-align: right;\">\n",
       "      <th></th>\n",
       "      <th>strangeness</th>\n",
       "      <th>count</th>\n",
       "    </tr>\n",
       "  </thead>\n",
       "  <tbody>\n",
       "    <tr>\n",
       "      <th>0</th>\n",
       "      <td>0</td>\n",
       "      <td>290</td>\n",
       "    </tr>\n",
       "    <tr>\n",
       "      <th>1</th>\n",
       "      <td>2</td>\n",
       "      <td>19</td>\n",
       "    </tr>\n",
       "    <tr>\n",
       "      <th>2</th>\n",
       "      <td>3</td>\n",
       "      <td>4</td>\n",
       "    </tr>\n",
       "  </tbody>\n",
       "</table>\n",
       "</div>"
      ],
      "text/plain": [
       "   strangeness  count\n",
       "0            0    290\n",
       "1            2     19\n",
       "2            3      4"
      ]
     },
     "metadata": {},
     "output_type": "display_data"
    },
    {
     "name": "stdout",
     "output_type": "stream",
     "text": [
      "-------\n",
      "Unexpected events in GRAVITY_single_acq (Error = True)\n",
      "\n",
      "['ERR bob_{} seqERR_REPLY_TIMEOUT reply on cmd{} CALIBSN to lgvft2 gviopdcServer timed out after {} ms'\n",
      " 'FEVT logManager TPL EXEC START Template execution started']\n"
     ]
    },
    {
     "data": {
      "text/html": [
       "<div>\n",
       "<style scoped>\n",
       "    .dataframe tbody tr th:only-of-type {\n",
       "        vertical-align: middle;\n",
       "    }\n",
       "\n",
       "    .dataframe tbody tr th {\n",
       "        vertical-align: top;\n",
       "    }\n",
       "\n",
       "    .dataframe thead th {\n",
       "        text-align: right;\n",
       "    }\n",
       "</style>\n",
       "<table border=\"1\" class=\"dataframe\">\n",
       "  <thead>\n",
       "    <tr style=\"text-align: right;\">\n",
       "      <th></th>\n",
       "      <th>strangeness</th>\n",
       "      <th>count</th>\n",
       "    </tr>\n",
       "  </thead>\n",
       "  <tbody>\n",
       "    <tr>\n",
       "      <th>0</th>\n",
       "      <td>0</td>\n",
       "      <td>1643</td>\n",
       "    </tr>\n",
       "    <tr>\n",
       "      <th>1</th>\n",
       "      <td>1</td>\n",
       "      <td>460</td>\n",
       "    </tr>\n",
       "    <tr>\n",
       "      <th>2</th>\n",
       "      <td>2</td>\n",
       "      <td>16</td>\n",
       "    </tr>\n",
       "    <tr>\n",
       "      <th>3</th>\n",
       "      <td>3</td>\n",
       "      <td>2</td>\n",
       "    </tr>\n",
       "  </tbody>\n",
       "</table>\n",
       "</div>"
      ],
      "text/plain": [
       "   strangeness  count\n",
       "0            0   1643\n",
       "1            1    460\n",
       "2            2     16\n",
       "3            3      2"
      ]
     },
     "metadata": {},
     "output_type": "display_data"
    }
   ],
   "source": [
    "for row in meta_errors.sample(5).itertuples():\n",
    "    print(f\"-------\\nUnexpected events in {row.TPL_ID} (Error = {row.ERROR})\")\n",
    "    trace = traces[ traces['trace_id'] == row.Index ]\n",
    "    labelled = model.predict(row.TPL_ID, trace )\n",
    "    unexpected = labelled[ labelled['strangeness'] == 3 ]\n",
    "    unexpected['color'] = unexpected['event'].apply(colorizer.tokenize)\n",
    "    print()\n",
    "    print( unexpected['color'].unique()[:20] )\n",
    "    display( labelled.groupby('strangeness').size().reset_index(name='count'))\n"
   ]
  }
 ],
 "metadata": {
  "kernelspec": {
   "display_name": "venv",
   "language": "python",
   "name": "python3"
  },
  "language_info": {
   "codemirror_mode": {
    "name": "ipython",
    "version": 3
   },
   "file_extension": ".py",
   "mimetype": "text/x-python",
   "name": "python",
   "nbconvert_exporter": "python",
   "pygments_lexer": "ipython3",
   "version": "3.10.9"
  }
 },
 "nbformat": 4,
 "nbformat_minor": 2
}
