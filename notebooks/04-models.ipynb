{
 "cells": [
  {
   "cell_type": "code",
   "execution_count": 5,
   "metadata": {},
   "outputs": [
    {
     "name": "stdout",
     "output_type": "stream",
     "text": [
      "The autoreload extension is already loaded. To reload it, use:\n",
      "  %reload_ext autoreload\n"
     ]
    }
   ],
   "source": [
    "%load_ext autoreload\n",
    "%autoreload 2"
   ]
  },
  {
   "cell_type": "code",
   "execution_count": 6,
   "metadata": {},
   "outputs": [],
   "source": [
    "from nb_utils import showAttribs"
   ]
  },
  {
   "cell_type": "markdown",
   "metadata": {},
   "source": [
    "# Module: eliana.models\n",
    "\n",
    "Models to work with logs"
   ]
  },
  {
   "cell_type": "markdown",
   "metadata": {},
   "source": [
    "\n",
    "## Strange Logs\n",
    "Statistical approach to label anomalies in event logs based on percentile analysis of tokenized events."
   ]
  },
  {
   "cell_type": "code",
   "execution_count": 7,
   "metadata": {},
   "outputs": [
    {
     "name": "stdout",
     "output_type": "stream",
     "text": [
      "Strangelog          : The analysis is precomputed in NORMAL traces splitted by subset, in this use case, subset=TPL_ID row. Each color in the whole vocabulary is labelled with:\n",
      "\n",
      "Constructor\n",
      "================\n",
      "__init__            : Documentation pending\n",
      "\n",
      "Properties\n",
      "================\n",
      "strangeness_        : dict(mapping) -> new dictionary initialized from a mapping object's\n",
      "\n",
      "Methods\n",
      "================\n",
      "fit                 : meta must be filtered to normal cases, without errors or aborts. This way the model will learn the nornmal behavior and\n",
      "predict             : Documentation pending\n",
      "save                : Saves the tokenizer object to a file.\n",
      "seq_to_count_vectorizer: Documentation pending\n",
      "seq_to_onehot       : Documentation pending\n"
     ]
    }
   ],
   "source": [
    "from eliana.models import Strangelog\n",
    "\n",
    "showAttribs(Strangelog)"
   ]
  },
  {
   "cell_type": "markdown",
   "metadata": {},
   "source": [
    "See [Strangelog Details](04-models-strangelog.ipynb)"
   ]
  },
  {
   "cell_type": "markdown",
   "metadata": {},
   "source": []
  }
 ],
 "metadata": {
  "language_info": {
   "name": "python"
  }
 },
 "nbformat": 4,
 "nbformat_minor": 2
}
