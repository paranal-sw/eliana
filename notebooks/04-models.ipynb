{
 "cells": [
  {
   "cell_type": "code",
   "execution_count": 1,
   "metadata": {},
   "outputs": [],
   "source": [
    "%load_ext autoreload\n",
    "%autoreload 2"
   ]
  },
  {
   "cell_type": "code",
   "execution_count": 2,
   "metadata": {},
   "outputs": [],
   "source": [
    "from nb_utils import showAttribs"
   ]
  },
  {
   "cell_type": "markdown",
   "metadata": {},
   "source": [
    "# Module: eliana.models\n",
    "\n",
    "Models to work with logs"
   ]
  },
  {
   "cell_type": "markdown",
   "metadata": {},
   "source": [
    "\n",
    "## Strange Logs\n",
    "Statistical approach to label anomalies in event logs based on percentile analysis of tokenized events."
   ]
  },
  {
   "cell_type": "code",
   "execution_count": 3,
   "metadata": {},
   "outputs": [
    {
     "name": "stdout",
     "output_type": "stream",
     "text": [
      "Strangelog          : The analysis is precomputed in NORMAL traces splitted by subset, in this use case, subset=TPL_ID row. Each color in the whole vocabulary is labelled with:\n",
      "\n",
      "Constructor\n",
      "================\n",
      "__init__            : Documentation pending\n",
      "\n",
      "Properties\n",
      "================\n",
      "strangeness_        : dict(mapping) -> new dictionary initialized from a mapping object's\n",
      "\n",
      "Methods\n",
      "================\n",
      "fit                 : Train the model with the given traces and metadata.\n",
      "predict             : Documentation pending\n",
      "save                : Saves the tokenizer object to a file.\n",
      "seq_to_count_vectorizer: Documentation pending\n",
      "seq_to_onehot       : Documentation pending\n"
     ]
    }
   ],
   "source": [
    "from eliana.models import Strangelog\n",
    "\n",
    "showAttribs(Strangelog)"
   ]
  },
  {
   "cell_type": "markdown",
   "metadata": {},
   "source": [
    "See [Strangelog Details](04-models-strangelog.ipynb)"
   ]
  },
  {
   "cell_type": "markdown",
   "metadata": {},
   "source": []
  }
 ],
 "metadata": {
  "kernelspec": {
   "display_name": "venv",
   "language": "python",
   "name": "python3"
  },
  "language_info": {
   "codemirror_mode": {
    "name": "ipython",
    "version": 3
   },
   "file_extension": ".py",
   "mimetype": "text/x-python",
   "name": "python",
   "nbconvert_exporter": "python",
   "pygments_lexer": "ipython3",
   "version": "3.10.9"
  }
 },
 "nbformat": 4,
 "nbformat_minor": 2
}
