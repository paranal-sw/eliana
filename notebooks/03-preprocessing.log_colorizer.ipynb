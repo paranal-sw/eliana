{
 "cells": [
  {
   "cell_type": "markdown",
   "metadata": {},
   "source": [
    "# Log Colorizer\n",
    "Learn from statistical properties in a trace of logs"
   ]
  },
  {
   "cell_type": "code",
   "execution_count": 1,
   "metadata": {},
   "outputs": [],
   "source": [
    "%load_ext autoreload\n",
    "%autoreload 2"
   ]
  },
  {
   "cell_type": "code",
   "execution_count": 2,
   "metadata": {},
   "outputs": [
    {
     "name": "stdout",
     "output_type": "stream",
     "text": [
      "LogColorizer        : Model to learn tokenizers from a dataset of traces.\n",
      "\n",
      "Constructor\n",
      "================\n",
      "__init__            : Initializes the LogColorizer with a tokenizer or a custom tokenization function.\n",
      "\n",
      "Properties\n",
      "================\n",
      "regexps             : List of regular expressions used by the tokenizer, including post-processing patterns.\n",
      "special             : Symbol used as a placeholder for numeric or variable values in templates. Default is '§'.\n",
      "templates           : List of templates used for matching traces.\n",
      "wildcard            : Placeholder for variable text in templates. Default is \"{}\".\n",
      "\n",
      "Methods\n",
      "================\n",
      "fit                 : Learns templates and tokenization rules from a dataset of traces.\n",
      "fit_on_traces       : None\n",
      "save                : Saves the tokenizer object to a file.\n",
      "tokenize            : Tokenizes a word or phrase using the provided tokenizer and post-processing steps.\n"
     ]
    }
   ],
   "source": [
    "from eliana.preprocessing import LogColorizer\n",
    "from nb_utils import showAttribs\n",
    "showAttribs(LogColorizer)"
   ]
  },
  {
   "cell_type": "markdown",
   "metadata": {},
   "source": [
    "## Example with ParlogsObservations"
   ]
  },
  {
   "cell_type": "code",
   "execution_count": 3,
   "metadata": {},
   "outputs": [
    {
     "name": "stdout",
     "output_type": "stream",
     "text": [
      "About to colorize 89408 traces over col=logtext, which has uniques=19412\n"
     ]
    }
   ],
   "source": [
    "from eliana.datasets import ParlogsObservations\n",
    "from eliana.preprocessing import LogColorizer, VltTokenizer, load_tokenizer\n",
    "\n",
    "config = {\n",
    "    'system': 'PIONIER',\n",
    "    'period': '1w'\n",
    "}\n",
    "logs = ParlogsObservations(**config)\n",
    "traces = logs.traces()\n",
    "\n",
    "# LogColorizer needs a pandas dataframe with a column named 'event' and 'trace_id'\n",
    "traces['event'] = traces['logtext']\n",
    "\n",
    "print(f\"About to colorize {len(traces)} traces over col=logtext, which has uniques={len(traces['logtext'].unique())}\")"
   ]
  },
  {
   "cell_type": "code",
   "execution_count": 4,
   "metadata": {},
   "outputs": [
    {
     "name": "stderr",
     "output_type": "stream",
     "text": [
      "WARNING:root:Unique colors with no tokenization = 19412\n",
      "WARNING:root:Pass 1/4: Raw Tokenizer\n",
      "WARNING:root:Pass 1/4: -- Done! {'new vocab': 10114, 'compression': '47.90%'}\n",
      "WARNING:root:Pass 2/4: Parametrize numbers of low freq tokens\n",
      "WARNING:root:Pass 2/4: -- # of low freq tokens: 3291\n",
      "WARNING:root:Pass 2/4: -- Done! {'new vocab': 709, 'compression': '96.35%'}\n",
      "WARNING:root:Pass 3/4: Remove numbers in similar alphanum tokens\n",
      "WARNING:root:Pass 3/4: -- Repeated alphanum tokens with length >= 5:\n",
      "WARNING:root:Pass 3/4: -- ['shut§']\n",
      "WARNING:root:Pass 3/4: -- Done! {'new vocab': 697, 'compression': '96.41%'}\n",
      "WARNING:root:Pass 4/4: Token Frequency Vector (TFV) optimization\n",
      "WARNING:root:Pass 4/4: -- THRESHOLD_LOW_F_COLOR = 17.0\n",
      "WARNING:root:Pass 4/4: -- Number of Low Frequency Colors: 378\n",
      "WARNING:root:Pass 4/4: -- Generate the Token Frequency Vectors (TFV)\n",
      "WARNING:root:Pass 4/4: -- Clusterize by TFV_size and replace rare events\n",
      "WARNING:root:Pass 4/4: Done! {'new vocab': 578, 'compression': '97.02%'}\n",
      "WARNING:root:------- Results -------\n",
      "WARNING:root:   Templates found: 17\n",
      "WARNING:root:   Regexps found: 55\n",
      "WARNING:root:   Vocabulary Size: 579 (unique colors)\n",
      "WARNING:root:   Compression: 97.02%\n",
      "WARNING:root:Finished!\n"
     ]
    },
    {
     "name": "stdout",
     "output_type": "stream",
     "text": [
      "CPU times: user 9.39 s, sys: 164 ms, total: 9.56 s\n",
      "Wall time: 9.64 s\n"
     ]
    }
   ],
   "source": [
    "%%time\n",
    "model = LogColorizer(tokenizer=VltTokenizer())\n",
    "x = model.fit(traces, warn=True)\n"
   ]
  },
  {
   "cell_type": "code",
   "execution_count": 5,
   "metadata": {},
   "outputs": [
    {
     "data": {
      "text/html": [
       "<div>\n",
       "<style scoped>\n",
       "    .dataframe tbody tr th:only-of-type {\n",
       "        vertical-align: middle;\n",
       "    }\n",
       "\n",
       "    .dataframe tbody tr th {\n",
       "        vertical-align: top;\n",
       "    }\n",
       "\n",
       "    .dataframe thead th {\n",
       "        text-align: right;\n",
       "    }\n",
       "</style>\n",
       "<table border=\"1\" class=\"dataframe\">\n",
       "  <thead>\n",
       "    <tr style=\"text-align: right;\">\n",
       "      <th></th>\n",
       "      <th>logtext</th>\n",
       "      <th>colorized</th>\n",
       "      <th>color_id</th>\n",
       "    </tr>\n",
       "  </thead>\n",
       "  <tbody>\n",
       "    <tr>\n",
       "      <th>50</th>\n",
       "      <td>Reply (not last) to 'STATUS' received: 'INS.MO...</td>\n",
       "      <td>reply not last to status received ins mode obs...</td>\n",
       "      <td>35</td>\n",
       "    </tr>\n",
       "    <tr>\n",
       "      <th>51</th>\n",
       "      <td>INS.MODE \"OBSERV-H\" (SpringGreen4)</td>\n",
       "      <td>ins mode observ h springgreen4</td>\n",
       "      <td>36</td>\n",
       "    </tr>\n",
       "    <tr>\n",
       "      <th>52</th>\n",
       "      <td>beginning exposure 1 of 1 (2019-04-02T07:40:48...</td>\n",
       "      <td>beginning exposure {} of {} {} underlined</td>\n",
       "      <td>10</td>\n",
       "    </tr>\n",
       "    <tr>\n",
       "      <th>53</th>\n",
       "      <td>SETUP -expoId 0 -function INS.MODE OBSERV-H DE...</td>\n",
       "      <td>setup expoid {} function ins mode observ h det...</td>\n",
       "      <td>37</td>\n",
       "    </tr>\n",
       "    <tr>\n",
       "      <th>54</th>\n",
       "      <td>Executing SETUP command ...</td>\n",
       "      <td>executing setup command</td>\n",
       "      <td>12</td>\n",
       "    </tr>\n",
       "    <tr>\n",
       "      <th>55</th>\n",
       "      <td>Forward(b) SETUP to DCS</td>\n",
       "      <td>forward b {} to dcs</td>\n",
       "      <td>13</td>\n",
       "    </tr>\n",
       "    <tr>\n",
       "      <th>56</th>\n",
       "      <td>1 - ic0fbControlSrv.C:695: Changing substate f...</td>\n",
       "      <td>{} ic0fbcontrolsrv c {} changing substate from...</td>\n",
       "      <td>16</td>\n",
       "    </tr>\n",
       "    <tr>\n",
       "      <th>57</th>\n",
       "      <td>Motion execution.</td>\n",
       "      <td>motion execution</td>\n",
       "      <td>18</td>\n",
       "    </tr>\n",
       "    <tr>\n",
       "      <th>58</th>\n",
       "      <td>1 - ic0fbiDevDrvDiscreteMotor.C:1768: CFOU: Al...</td>\n",
       "      <td>{} ic0fbidevdrvdiscretemotor c {} cfou already...</td>\n",
       "      <td>28</td>\n",
       "    </tr>\n",
       "    <tr>\n",
       "      <th>59</th>\n",
       "      <td>1 - ic0fbControlSrv.C:695: Changing substate f...</td>\n",
       "      <td>{} ic0fbcontrolsrv c {} changing substate from...</td>\n",
       "      <td>19</td>\n",
       "    </tr>\n",
       "    <tr>\n",
       "      <th>60</th>\n",
       "      <td>12 (SpringGreen4)</td>\n",
       "      <td>{} springgreen4</td>\n",
       "      <td>21</td>\n",
       "    </tr>\n",
       "    <tr>\n",
       "      <th>61</th>\n",
       "      <td>SETUP command done.</td>\n",
       "      <td>setup command done</td>\n",
       "      <td>20</td>\n",
       "    </tr>\n",
       "    <tr>\n",
       "      <th>62</th>\n",
       "      <td>Motion execution.</td>\n",
       "      <td>motion execution</td>\n",
       "      <td>18</td>\n",
       "    </tr>\n",
       "    <tr>\n",
       "      <th>63</th>\n",
       "      <td>Motion execution.</td>\n",
       "      <td>motion execution</td>\n",
       "      <td>18</td>\n",
       "    </tr>\n",
       "    <tr>\n",
       "      <th>64</th>\n",
       "      <td>Lamp turned on.</td>\n",
       "      <td>lamp turned on</td>\n",
       "      <td>38</td>\n",
       "    </tr>\n",
       "    <tr>\n",
       "      <th>65</th>\n",
       "      <td>Lamp turned off.</td>\n",
       "      <td>lamp turned off</td>\n",
       "      <td>22</td>\n",
       "    </tr>\n",
       "    <tr>\n",
       "      <th>66</th>\n",
       "      <td>... DET.SUBWIN2.GEOMETRY 6x1+-5+10 DET.SUBWIN2...</td>\n",
       "      <td>_setup_parameters_ommited_</td>\n",
       "      <td>24</td>\n",
       "    </tr>\n",
       "    <tr>\n",
       "      <th>67</th>\n",
       "      <td>... DET.SUBWIN28.GEOMETRY 6x1+5+22 DET.SUBWIN5...</td>\n",
       "      <td>_setup_parameters_ommited_</td>\n",
       "      <td>24</td>\n",
       "    </tr>\n",
       "    <tr>\n",
       "      <th>68</th>\n",
       "      <td>... INS.OPTI2.NAME GRI+WOL (blue)</td>\n",
       "      <td>ins opti{} name gri wol blue</td>\n",
       "      <td>39</td>\n",
       "    </tr>\n",
       "    <tr>\n",
       "      <th>69</th>\n",
       "      <td>... DET.SUBWIN17.GEOMETRY 6x1+-5+130 DET.SUBWI...</td>\n",
       "      <td>_setup_parameters_ommited_</td>\n",
       "      <td>24</td>\n",
       "    </tr>\n",
       "  </tbody>\n",
       "</table>\n",
       "</div>"
      ],
      "text/plain": [
       "                                              logtext  \\\n",
       "50  Reply (not last) to 'STATUS' received: 'INS.MO...   \n",
       "51                 INS.MODE \"OBSERV-H\" (SpringGreen4)   \n",
       "52  beginning exposure 1 of 1 (2019-04-02T07:40:48...   \n",
       "53  SETUP -expoId 0 -function INS.MODE OBSERV-H DE...   \n",
       "54                        Executing SETUP command ...   \n",
       "55                            Forward(b) SETUP to DCS   \n",
       "56  1 - ic0fbControlSrv.C:695: Changing substate f...   \n",
       "57                                  Motion execution.   \n",
       "58  1 - ic0fbiDevDrvDiscreteMotor.C:1768: CFOU: Al...   \n",
       "59  1 - ic0fbControlSrv.C:695: Changing substate f...   \n",
       "60                                  12 (SpringGreen4)   \n",
       "61                                SETUP command done.   \n",
       "62                                  Motion execution.   \n",
       "63                                  Motion execution.   \n",
       "64                                    Lamp turned on.   \n",
       "65                                   Lamp turned off.   \n",
       "66  ... DET.SUBWIN2.GEOMETRY 6x1+-5+10 DET.SUBWIN2...   \n",
       "67  ... DET.SUBWIN28.GEOMETRY 6x1+5+22 DET.SUBWIN5...   \n",
       "68                  ... INS.OPTI2.NAME GRI+WOL (blue)   \n",
       "69  ... DET.SUBWIN17.GEOMETRY 6x1+-5+130 DET.SUBWI...   \n",
       "\n",
       "                                            colorized  color_id  \n",
       "50  reply not last to status received ins mode obs...        35  \n",
       "51                     ins mode observ h springgreen4        36  \n",
       "52          beginning exposure {} of {} {} underlined        10  \n",
       "53  setup expoid {} function ins mode observ h det...        37  \n",
       "54                            executing setup command        12  \n",
       "55                                forward b {} to dcs        13  \n",
       "56  {} ic0fbcontrolsrv c {} changing substate from...        16  \n",
       "57                                   motion execution        18  \n",
       "58  {} ic0fbidevdrvdiscretemotor c {} cfou already...        28  \n",
       "59  {} ic0fbcontrolsrv c {} changing substate from...        19  \n",
       "60                                    {} springgreen4        21  \n",
       "61                                 setup command done        20  \n",
       "62                                   motion execution        18  \n",
       "63                                   motion execution        18  \n",
       "64                                     lamp turned on        38  \n",
       "65                                    lamp turned off        22  \n",
       "66                         _setup_parameters_ommited_        24  \n",
       "67                         _setup_parameters_ommited_        24  \n",
       "68                       ins opti{} name gri wol blue        39  \n",
       "69                         _setup_parameters_ommited_        24  "
      ]
     },
     "execution_count": 5,
     "metadata": {},
     "output_type": "execute_result"
    }
   ],
   "source": [
    "# See learnt tokenization in action. Use swifter for faster processing if you need\n",
    "#!pip install swifter\n",
    "#traces['colorized'] = traces['logtext'].swifter.apply(lambda x: model.tokenize(x))\n",
    "\n",
    "traces['colorized'] = traces['logtext'].apply(lambda x: model.tokenize(x))\n",
    "traces['color_id'] = traces['colorized'].apply(lambda x: model.vocab_dict_[x])\n",
    "\n",
    "traces[['logtext', 'colorized', 'color_id']][50:70]"
   ]
  },
  {
   "cell_type": "markdown",
   "metadata": {},
   "source": [
    "### Save the tokenizer"
   ]
  },
  {
   "cell_type": "code",
   "execution_count": 6,
   "metadata": {},
   "outputs": [
    {
     "name": "stdout",
     "output_type": "stream",
     "text": [
      "total 520\n",
      "-rw-r--r--  1 jgil  5000   229K Jan  2 01:43 example_logcolorizer.pkl\n"
     ]
    }
   ],
   "source": [
    "model.save('data/models/example_logcolorizer.pkl')\n",
    "!ls -lh data/models/"
   ]
  },
  {
   "cell_type": "markdown",
   "metadata": {},
   "source": [
    "### Load the tokenizer"
   ]
  },
  {
   "cell_type": "code",
   "execution_count": 7,
   "metadata": {},
   "outputs": [
    {
     "data": {
      "text/plain": [
       "0"
      ]
     },
     "execution_count": 7,
     "metadata": {},
     "output_type": "execute_result"
    }
   ],
   "source": [
    "model = load_tokenizer('data/models/example_logcolorizer.pkl')\n",
    "model.vocab_dict_['<unk>']"
   ]
  },
  {
   "cell_type": "markdown",
   "metadata": {},
   "source": [
    "### Inspect inner workings of the model"
   ]
  },
  {
   "cell_type": "code",
   "execution_count": 8,
   "metadata": {},
   "outputs": [
    {
     "data": {
      "text/plain": [
       "[('<unk>', 0),\n",
       " ('pionier_gen_tec_setup instrument setup yellow', 1),\n",
       " ('started at {} underlined', 2),\n",
       " ('seq win single f', 3),\n",
       " ('ins mode observ h', 4),\n",
       " ('ins disp name free', 5),\n",
       " ('status function ins mode blue', 6),\n",
       " ('send command status ins mode false to sub system ics', 7),\n",
       " ('reply not last to status received ins mode park len {} last reply will be ignored',\n",
       "  8),\n",
       " ('ins mode park springgreen4', 9),\n",
       " ('beginning exposure {} of {} {} underlined', 10),\n",
       " ('setup expoid {} function ins mode park det scan st f blue', 11),\n",
       " ('executing setup command', 12),\n",
       " ('forward b {} to dcs', 13),\n",
       " ('{} ic0fbinsmodel c {} notice irrelevant setup key received ins shut{} st',\n",
       "  14),\n",
       " ('{} ic0fbinsmodel c {} notice irrelevant setup key s contained in setup buffer',\n",
       "  15),\n",
       " ('{} ic0fbcontrolsrv c {} changing substate from idle to busy', 16),\n",
       " ('motor offset done', 17),\n",
       " ('motion execution', 18),\n",
       " ('{} ic0fbcontrolsrv c {} changing substate from busy to idle', 19)]"
      ]
     },
     "execution_count": 8,
     "metadata": {},
     "output_type": "execute_result"
    }
   ],
   "source": [
    "# First 20 items of the vocabulary\n",
    "list(model.vocab_dict_.items())[:20]"
   ]
  },
  {
   "cell_type": "code",
   "execution_count": 9,
   "metadata": {},
   "outputs": [
    {
     "data": {
      "text/plain": [
       "[('([lw]a{0,1}t)[0-9]([a-z]+)', '\\\\1{}\\\\2'),\n",
       " ('(\\\\W)cmd\\\\d+', '\\\\1cmd{}'),\n",
       " ('(\\\\s*?[a-z][a-z0-9]{2,})_[0-9]{3,}(\\\\s*)', '\\\\1_{}\\\\2'),\n",
       " ('\\\\.\\\\.\\\\.(\\\\s+\\\\S+){5}.*', '_setup_parameters_ommited_'),\n",
       " ('\\\\d{4}-\\\\d{2}-\\\\d{2}[ tT]\\\\d{2}:\\\\d{2}:\\\\d{2}(\\\\.\\\\d{0,3})?', '{}'),\n",
       " ('\\\\b-?\\\\d+(\\\\.\\\\d+)?([eE][-+]?\\\\d+(\\\\.\\\\d+)?)?\\\\b', '{}'),\n",
       " ('-{}', '{}'),\n",
       " ('[\\\\\"\\'!,;:\\\\+\\\\*\\\\$<>\\\\.\\\\-|/\\\\\\\\=\\\\[\\\\]\\\\()#]', ' '),\n",
       " ('(\\\\{\\\\})+', '{}'),\n",
       " [('(\\\\{\\\\})+', '{}'),\n",
       "  (' [0-9]+x[0-9]+a[0-9]+ ', ' {}x{}a{} '),\n",
       "  (' [0-9]+xf[0-9]+ ', ' {}xf{} '),\n",
       "  (' [0-9]+pho ', ' {}pho '),\n",
       "  (' [0-9]+x[0-9]+ ', ' {}x{} '),\n",
       "  (' a[0-9]+ ', ' a{} '),\n",
       "  (' beam[0-9]+ ', ' beam{} '),\n",
       "  (' cfg[0-9]+ ', ' cfg{} '),\n",
       "  (' cs[0-9]+ ', ' cs{} '),\n",
       "  (' cu[0-9]+ ', ' cu{} '),\n",
       "  (' dpnics[0-9]+ ', ' dpnics{} '),\n",
       "  (' g[0-9]+ ', ' g{} '),\n",
       "  (' ic[0-9]+fbcontrolsrv_standbycb ', ' ic{}fbcontrolsrv_standbycb '),\n",
       "  (' ic[0-9]+fbdevice ', ' ic{}fbdevice '),\n",
       "  (' ic[0-9]+fbdevsrv_onlinecb ', ' ic{}fbdevsrv_onlinecb '),\n",
       "  (' ic[0-9]+fbidiscretemotor_twincat ', ' ic{}fbidiscretemotor_twincat '),\n",
       "  (' ic[0-9]+fbnamemapping ', ' ic{}fbnamemapping '),\n",
       "  (' j[0-9]+ ', ' j{} '),\n",
       "  (' k[0-9]+ ', ' k{} '),\n",
       "  (' keyw[0-9]+ ', ' keyw{} '),\n",
       "  (' lib[0-9]+ ', ' lib{} '),\n",
       "  (' mjaxos[0-9]+wnc[0-9]+wmiagmja[0-9]+mti[0-9]+mj ',\n",
       "   ' mjaxos{}wnc{}wmiagmja{}mti{}mj '),\n",
       "  (' mjaxos[0-9]+wnc[0-9]+wmiagmta[0-9]+mzy[0-9]+mt ',\n",
       "   ' mjaxos{}wnc{}wmiagmta{}mzy{}mt '),\n",
       "  (' mjaxos[0-9]+wnc[0-9]+wmyagmdk[0-9]+ndy[0-9]+nt ',\n",
       "   ' mjaxos{}wnc{}wmyagmdk{}ndy{}nt '),\n",
       "  (' mjaxos[0-9]+wnc[0-9]+wmyagmtc[0-9]+mdg[0-9]+nd ',\n",
       "   ' mjaxos{}wnc{}wmyagmtc{}mdg{}nd '),\n",
       "  (' mjaxos[0-9]+wnc[0-9]+wncagmdg[0-9]+mjy[0-9]+mt ',\n",
       "   ' mjaxos{}wnc{}wncagmdg{}mjy{}mt '),\n",
       "  (' mjaxos[0-9]+wnc[0-9]+wncagmdu[0-9]+ntc[0-9]+nt ',\n",
       "   ' mjaxos{}wnc{}wncagmdu{}ntc{}nt '),\n",
       "  (' opti[0-9]+ ', ' opti{} '),\n",
       "  (' pionier_flux_gen[0-9]+_[0-9]+_beam_[0-9]+ ',\n",
       "   ' pionier_flux_gen{}_{}_beam_{} '),\n",
       "  (' pionier_gen_dark[0-9]+_[0-9]+ ', ' pionier_gen_dark{}_{} '),\n",
       "  (' pionier_gen_dark[0-9]+_[0-9]+_acs_hdr ',\n",
       "   ' pionier_gen_dark{}_{}_acs_hdr '),\n",
       "  (' pionier_gen_dark[0-9]+_[0-9]+_ics_hdr ',\n",
       "   ' pionier_gen_dark{}_{}_ics_hdr '),\n",
       "  (' pionier_gen_fringe[0-9]+_[0-9]+ ', ' pionier_gen_fringe{}_{} '),\n",
       "  (' pionier_gen_fringe[0-9]+_[0-9]+_acs_hdr ',\n",
       "   ' pionier_gen_fringe{}_{}_acs_hdr '),\n",
       "  (' pionier_gen_fringe[0-9]+_[0-9]+_ics_hdr ',\n",
       "   ' pionier_gen_fringe{}_{}_ics_hdr '),\n",
       "  (' pionier_gen_kappa[0-9]+_[0-9]+ ', ' pionier_gen_kappa{}_{} '),\n",
       "  (' pionier_gen_kappa[0-9]+_[0-9]+_acs_hdr ',\n",
       "   ' pionier_gen_kappa{}_{}_acs_hdr '),\n",
       "  (' pionier_gen_kappa[0-9]+_[0-9]+_ics_hdr ',\n",
       "   ' pionier_gen_kappa{}_{}_ics_hdr '),\n",
       "  (' pionier_gen_ptc[0-9]+_[0-9]+ ', ' pionier_gen_ptc{}_{} '),\n",
       "  (' pionier_gen_ptc[0-9]+_[0-9]+_acs_hdr ', ' pionier_gen_ptc{}_{}_acs_hdr '),\n",
       "  (' pionier_gen_ptc[0-9]+_[0-9]+_ics_hdr ', ' pionier_gen_ptc{}_{}_ics_hdr '),\n",
       "  (' pionier_gen_wave[0-9]+_[0-9]+ ', ' pionier_gen_wave{}_{} '),\n",
       "  (' pionier_gen_wave[0-9]+_[0-9]+_acs_hdr ',\n",
       "   ' pionier_gen_wave{}_{}_acs_hdr '),\n",
       "  (' pionier_gen_wave[0-9]+_[0-9]+_ics_hdr ',\n",
       "   ' pionier_gen_wave{}_{}_ics_hdr '),\n",
       "  (' pionier_obs_fringe[0-9]+_[0-9]+ ', ' pionier_obs_fringe{}_{} '),\n",
       "  (' pionier_obs_fringe[0-9]+_[0-9]+_acs_hdr ',\n",
       "   ' pionier_obs_fringe{}_{}_acs_hdr '),\n",
       "  (' pionier_obs_fringe[0-9]+_[0-9]+_ics_hdr ',\n",
       "   ' pionier_obs_fringe{}_{}_ics_hdr '),\n",
       "  (' s[0-9]+ ', ' s{} '),\n",
       "  (' script[0-9]+ ', ' script{} '),\n",
       "  (' subwin[0-9]+ ', ' subwin{} '),\n",
       "  (' tcshdr_dcs_[0-9]+ ', ' tcshdr_dcs_{} '),\n",
       "  (' u[0-9]+ ', ' u{} '),\n",
       "  (' value[0-9]+ ', ' value{} '),\n",
       "  (' vlt[0-9]+ ', ' vlt{} '),\n",
       "  (' shut[0-9]+ ', ' shut{} ')]]"
      ]
     },
     "execution_count": 9,
     "metadata": {},
     "output_type": "execute_result"
    }
   ],
   "source": [
    "model.regexps"
   ]
  },
  {
   "cell_type": "code",
   "execution_count": 10,
   "metadata": {},
   "outputs": [
    {
     "data": {
      "text/plain": [
       "['tplexectimestats tpl id § estimated {} {} {} real {} {} {} diff {} seconds {} {} {}',\n",
       " 'send command status det § § false to sub system dcs',\n",
       " 'send command status ins2 § § false to sub system acs',\n",
       " 'send a{} no kill mjaxos{}wnc{}w§ reply to {}',\n",
       " 'obs name § obs id {}',\n",
       " 'status function det § § blue',\n",
       " 'status function ins2 § § blue',\n",
       " 'det § § {} springgreen4',\n",
       " 'forward a § to dcs',\n",
       " 'forward b § to dcs',\n",
       " 'ins cfg{} ttm§ xref {}',\n",
       " 'ins cfg{} ttm§ yref {}',\n",
       " 'det § § {}',\n",
       " 'last reply to status from acs received ins2 § § {} len {}',\n",
       " 'last reply to status from dcs received det § § {} len {}',\n",
       " '{} ic0fbcontrolsrv c {} device § changed state from standby to standby',\n",
       " '{} ic0fbdevsrv_standbycb c {} brought device § to standby state']"
      ]
     },
     "execution_count": 10,
     "metadata": {},
     "output_type": "execute_result"
    }
   ],
   "source": [
    "model.templates"
   ]
  }
 ],
 "metadata": {
  "kernelspec": {
   "display_name": "venv",
   "language": "python",
   "name": "python3"
  },
  "language_info": {
   "codemirror_mode": {
    "name": "ipython",
    "version": 3
   },
   "file_extension": ".py",
   "mimetype": "text/x-python",
   "name": "python",
   "nbconvert_exporter": "python",
   "pygments_lexer": "ipython3",
   "version": "3.10.9"
  }
 },
 "nbformat": 4,
 "nbformat_minor": 2
}
