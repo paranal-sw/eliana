{
 "cells": [
  {
   "cell_type": "markdown",
   "metadata": {},
   "source": [
    "# Log Colorizer\n",
    "Learn from statistical properties in a trace of logs"
   ]
  },
  {
   "cell_type": "code",
   "execution_count": 1,
   "metadata": {},
   "outputs": [
    {
     "name": "stdout",
     "output_type": "stream",
     "text": [
      "LogColorizer        : Model to learn tokenizers from a dataset of traces.\n",
      "\n",
      "Constructor\n",
      "================\n",
      "__init__            : Initializes the LogColorizer with a tokenizer or a custom tokenization function.\n",
      "\n",
      "Properties\n",
      "================\n",
      "regexps             : List of regular expressions used by the tokenizer, including post-processing patterns.\n",
      "special             : Symbol used as a placeholder for numeric or variable values in templates. Default is '§'.\n",
      "templates           : List of templates used for matching traces.\n",
      "wildcard            : Placeholder for variable text in templates. Default is \"{}\".\n",
      "\n",
      "Methods\n",
      "================\n",
      "fit                 : Learns templates and tokenization rules from a dataset of traces.\n",
      "fit_on_traces       : None\n",
      "save                : Saves the tokenizer object to a file.\n",
      "tokenize            : Tokenizes a word or phrase using the provided tokenizer and post-processing steps.\n"
     ]
    }
   ],
   "source": [
    "from eliana.preprocessing import LogColorizer\n",
    "from nb_utils import showAttribs, draw_heatmap\n",
    "showAttribs(LogColorizer)"
   ]
  },
  {
   "cell_type": "markdown",
   "metadata": {},
   "source": [
    "## Example with ParlogsObservations"
   ]
  },
  {
   "cell_type": "markdown",
   "metadata": {},
   "source": [
    "### Imports"
   ]
  },
  {
   "cell_type": "code",
   "execution_count": 2,
   "metadata": {},
   "outputs": [],
   "source": [
    "import pandas as pd\n",
    "from collections import Counter\n",
    "import numpy as np\n",
    "\n",
    "from eliana.datasets import ParlogsObservations\n",
    "from eliana.preprocessing import LogColorizer, VltTokenizer, load_tokenizer\n",
    "from eliana.preprocessing.utils import measure_color_growth\n"
   ]
  },
  {
   "cell_type": "markdown",
   "metadata": {},
   "source": [
    "### Load Event Logs"
   ]
  },
  {
   "cell_type": "code",
   "execution_count": 3,
   "metadata": {},
   "outputs": [
    {
     "name": "stdout",
     "output_type": "stream",
     "text": [
      "About to colorize 89408 traces over col=logtext, which has uniques=19412\n"
     ]
    }
   ],
   "source": [
    "logs = ParlogsObservations(system=\"PIONIER\", period=\"1w\")\n",
    "traces = logs.traces()\n",
    "\n",
    "print(f\"About to colorize {len(traces)} traces over col=logtext, which has uniques={len(traces['logtext'].unique())}\")"
   ]
  },
  {
   "cell_type": "markdown",
   "metadata": {},
   "source": [
    "The base tokenizer will be VltTokenizer which include some regexps specific to Paranal use case."
   ]
  },
  {
   "cell_type": "code",
   "execution_count": 4,
   "metadata": {},
   "outputs": [
    {
     "name": "stdout",
     "output_type": "stream",
     "text": [
      "Tokenizer class \"VltTokenizer\"\n",
      "==============================\n",
      "Inherits from: UTCdate, Numbers, Punctuation, RegExpTokenizer\n",
      "Options: namespace(remove_extra_spaces=True, to_lowercase=True, strip=True)\n",
      "\n",
      "Tokenization is done in the following order\n",
      "\n",
      "UTCdate: Transform UTC dates using {} as token\n",
      "    2022-10-01T00:43:01.123 -> {}\n",
      "    Started at 2019-04-01T22:29:07 (underlined) -> Started at {} (underlined)\n",
      "\n",
      "Numbers: Transform numbers using {} as token, but ignore numbers that are parts of a word\n",
      "    1 -> {}\n",
      "    -10.54 -> {}\n",
      "    9.1e-2.1 -> {}\n",
      "    There are 2 telescopes: UT1, UT2 -> There are {} telescopes: UT1, UT2\n",
      "    2Good2be_True -> 2Good2be_True\n",
      "\n",
      "Punctuation: Remove all punctuation\n",
      "    Original: Hi! I'm counting 1,2, 3 ... and so on.\n",
      "    Tokenized: Hi I m counting 1 2 3 and so on\n",
      "\n",
      "RegExpTokenizer:     A tokenizer that uses regular expressions to tokenize text. Inherits from AbstractTokenizer.\n",
      "\n",
      "VltTokenizer: Domain specific transformation for Paranal VLT software logs using {} as token\n",
      "    Original : wat2tcs lt3aga w2fors (bobWish_105797) ITERATION=10 [bob_234] lt4aag cmd77 2022-10-01T00:43:01.123 \n",
      "    Tokenized: wat{}tcs lt{}aga w2fors ( bobwish_{} iteration={} [ bob_{} lt{}aag cmd{} {}\n",
      "\n",
      "    Original : ... \"B02_HD95578_MED_SPLIT\" OBS.OBSERVER \"UNKNOWN\" OBS.PI-COI.ID \"70033\" OBS.PI-COI.NAME \"UNKNOWN\"\n",
      "    Tokenized: _setup_parameters_ommited_\n"
     ]
    }
   ],
   "source": [
    "print(VltTokenizer().help())"
   ]
  },
  {
   "cell_type": "code",
   "execution_count": 5,
   "metadata": {},
   "outputs": [
    {
     "name": "stderr",
     "output_type": "stream",
     "text": [
      "WARNING:root:Unique colors with no tokenization = 19551\n",
      "WARNING:root:Pass 1/4: Raw Tokenizer\n",
      "WARNING:root:Pass 1/4: -- Done! {'new vocab': 10191, 'compression': '47.87%'}\n",
      "WARNING:root:Pass 2/4: Parametrize numbers of low freq tokens\n",
      "WARNING:root:Pass 2/4: -- # of low freq tokens: 3300\n",
      "WARNING:root:Pass 2/4: -- Done! {'new vocab': 790, 'compression': '95.96%'}\n",
      "WARNING:root:Pass 3/4: Remove numbers in similar alphanum tokens\n",
      "WARNING:root:Pass 3/4: -- Repeated alphanum tokens with length >= 5:\n",
      "WARNING:root:Pass 3/4: -- ['shut§']\n",
      "WARNING:root:Pass 3/4: -- Done! {'new vocab': 778, 'compression': '96.02%'}\n",
      "WARNING:root:Pass 4/4: Token Frequency Vector (TFV) optimization\n",
      "WARNING:root:Pass 4/4: -- THRESHOLD_LOW_F_COLOR = 16.0\n",
      "WARNING:root:Pass 4/4: -- Number of Low Frequency Colors: 430\n",
      "WARNING:root:Pass 4/4: -- Generate the Token Frequency Vectors (TFV)\n",
      "WARNING:root:Pass 4/4: -- Clusterize by TFV_size and replace rare events\n",
      "WARNING:root:Pass 4/4: Done! {'new vocab': 636, 'compression': '96.75%'}\n",
      "WARNING:root:------- Results -------\n",
      "WARNING:root:   Templates found: 23\n",
      "WARNING:root:   Regexps found: 61\n",
      "WARNING:root:   Vocabulary Size: 637 (unique colors)\n",
      "WARNING:root:   Compression: 96.75%\n",
      "WARNING:root:Finished!\n"
     ]
    },
    {
     "name": "stdout",
     "output_type": "stream",
     "text": [
      "CPU times: user 11.3 s, sys: 231 ms, total: 11.5 s\n",
      "Wall time: 11.6 s\n"
     ]
    }
   ],
   "source": [
    "%%time\n",
    "model = LogColorizer(tokenizer=VltTokenizer())\n",
    "_ = model.fit(traces, warn=True)\n"
   ]
  },
  {
   "cell_type": "code",
   "execution_count": 6,
   "metadata": {},
   "outputs": [
    {
     "data": {
      "text/html": [
       "<div>\n",
       "<style scoped>\n",
       "    .dataframe tbody tr th:only-of-type {\n",
       "        vertical-align: middle;\n",
       "    }\n",
       "\n",
       "    .dataframe tbody tr th {\n",
       "        vertical-align: top;\n",
       "    }\n",
       "\n",
       "    .dataframe thead th {\n",
       "        text-align: right;\n",
       "    }\n",
       "</style>\n",
       "<table border=\"1\" class=\"dataframe\">\n",
       "  <thead>\n",
       "    <tr style=\"text-align: right;\">\n",
       "      <th></th>\n",
       "      <th>event</th>\n",
       "      <th>colorized</th>\n",
       "      <th>color_id</th>\n",
       "    </tr>\n",
       "  </thead>\n",
       "  <tbody>\n",
       "    <tr>\n",
       "      <th>50</th>\n",
       "      <td>LOG pnoControl   Reply (not last) to 'STATUS' ...</td>\n",
       "      <td>log pnocontrol reply not last to status receiv...</td>\n",
       "      <td>39</td>\n",
       "    </tr>\n",
       "    <tr>\n",
       "      <th>51</th>\n",
       "      <td>LOG bob_25299   INS.MODE \"OBSERV-H\" (SpringGre...</td>\n",
       "      <td>log bob_{} ins mode observ h springgreen4</td>\n",
       "      <td>40</td>\n",
       "    </tr>\n",
       "    <tr>\n",
       "      <th>52</th>\n",
       "      <td>LOG bob_25299   beginning exposure 1 of 1 (201...</td>\n",
       "      <td>log bob_{} beginning exposure {} of {} {} unde...</td>\n",
       "      <td>41</td>\n",
       "    </tr>\n",
       "    <tr>\n",
       "      <th>53</th>\n",
       "      <td>LOG bob_25299   SETUP -expoId 0 -function INS....</td>\n",
       "      <td>log bob_{} setup expoid {} function ins mode o...</td>\n",
       "      <td>42</td>\n",
       "    </tr>\n",
       "    <tr>\n",
       "      <th>54</th>\n",
       "      <td>LOG pnoControl   Executing SETUP command ...</td>\n",
       "      <td>log pnocontrol executing setup command</td>\n",
       "      <td>12</td>\n",
       "    </tr>\n",
       "    <tr>\n",
       "      <th>55</th>\n",
       "      <td>LOG pnoControl   Forward(b) SETUP to DCS</td>\n",
       "      <td>log pnocontrol forward b {} to dcs</td>\n",
       "      <td>13</td>\n",
       "    </tr>\n",
       "    <tr>\n",
       "      <th>56</th>\n",
       "      <td>LOG ic0fbControl_1   1 - ic0fbControlSrv.C:695...</td>\n",
       "      <td>log ic0fbcontrol_1 {} ic0fbcontrolsrv c {} cha...</td>\n",
       "      <td>16</td>\n",
       "    </tr>\n",
       "    <tr>\n",
       "      <th>57</th>\n",
       "      <td>FEVT logManager INS.OPTI1.MOVE  Motion execution.</td>\n",
       "      <td>fevt logmanager ins opti1 move motion execution</td>\n",
       "      <td>18</td>\n",
       "    </tr>\n",
       "    <tr>\n",
       "      <th>58</th>\n",
       "      <td>LOG ic0fbDev_CFOU   1 - ic0fbiDevDrvDiscreteMo...</td>\n",
       "      <td>log ic0fbdev_cfou {} ic0fbidevdrvdiscretemotor...</td>\n",
       "      <td>29</td>\n",
       "    </tr>\n",
       "    <tr>\n",
       "      <th>59</th>\n",
       "      <td>LOG ic0fbControl_1   1 - ic0fbControlSrv.C:695...</td>\n",
       "      <td>log ic0fbcontrol_1 {} ic0fbcontrolsrv c {} cha...</td>\n",
       "      <td>19</td>\n",
       "    </tr>\n",
       "    <tr>\n",
       "      <th>60</th>\n",
       "      <td>LOG bob_25299   12 (SpringGreen4)</td>\n",
       "      <td>log bob_{} {} springgreen4</td>\n",
       "      <td>43</td>\n",
       "    </tr>\n",
       "    <tr>\n",
       "      <th>61</th>\n",
       "      <td>LOG pnoControl   SETUP command done.</td>\n",
       "      <td>log pnocontrol setup command done</td>\n",
       "      <td>20</td>\n",
       "    </tr>\n",
       "    <tr>\n",
       "      <th>62</th>\n",
       "      <td>FEVT logManager INS.OPTI1.MOVE  Motion execution.</td>\n",
       "      <td>fevt logmanager ins opti1 move motion execution</td>\n",
       "      <td>18</td>\n",
       "    </tr>\n",
       "    <tr>\n",
       "      <th>63</th>\n",
       "      <td>FEVT logManager INS.OPTI2.MOVE  Motion execution.</td>\n",
       "      <td>fevt logmanager ins opti2 move motion execution</td>\n",
       "      <td>44</td>\n",
       "    </tr>\n",
       "    <tr>\n",
       "      <th>64</th>\n",
       "      <td>FEVT logManager INS.LAMP1.START  Lamp turned on.</td>\n",
       "      <td>fevt logmanager ins lamp1 start lamp turned on</td>\n",
       "      <td>45</td>\n",
       "    </tr>\n",
       "    <tr>\n",
       "      <th>65</th>\n",
       "      <td>FEVT logManager INS.LAMP2.STOP  Lamp turned off.</td>\n",
       "      <td>fevt logmanager ins lamp2 stop lamp turned off</td>\n",
       "      <td>22</td>\n",
       "    </tr>\n",
       "    <tr>\n",
       "      <th>66</th>\n",
       "      <td>LOG bob_25299   ... DET.SUBWIN2.GEOMETRY 6x1+-...</td>\n",
       "      <td>log bob_{} _setup_parameters_ommited_</td>\n",
       "      <td>46</td>\n",
       "    </tr>\n",
       "    <tr>\n",
       "      <th>67</th>\n",
       "      <td>LOG bob_25299   ... DET.SUBWIN28.GEOMETRY 6x1+...</td>\n",
       "      <td>log bob_{} _setup_parameters_ommited_</td>\n",
       "      <td>46</td>\n",
       "    </tr>\n",
       "    <tr>\n",
       "      <th>68</th>\n",
       "      <td>LOG bob_25299   ... INS.OPTI2.NAME GRI+WOL (blue)</td>\n",
       "      <td>log bob_{} ins opti2 name gri wol blue</td>\n",
       "      <td>47</td>\n",
       "    </tr>\n",
       "    <tr>\n",
       "      <th>69</th>\n",
       "      <td>LOG bob_25299   ... DET.SUBWIN17.GEOMETRY 6x1+...</td>\n",
       "      <td>log bob_{} _setup_parameters_ommited_</td>\n",
       "      <td>46</td>\n",
       "    </tr>\n",
       "  </tbody>\n",
       "</table>\n",
       "</div>"
      ],
      "text/plain": [
       "                                                event  \\\n",
       "50  LOG pnoControl   Reply (not last) to 'STATUS' ...   \n",
       "51  LOG bob_25299   INS.MODE \"OBSERV-H\" (SpringGre...   \n",
       "52  LOG bob_25299   beginning exposure 1 of 1 (201...   \n",
       "53  LOG bob_25299   SETUP -expoId 0 -function INS....   \n",
       "54       LOG pnoControl   Executing SETUP command ...   \n",
       "55           LOG pnoControl   Forward(b) SETUP to DCS   \n",
       "56  LOG ic0fbControl_1   1 - ic0fbControlSrv.C:695...   \n",
       "57  FEVT logManager INS.OPTI1.MOVE  Motion execution.   \n",
       "58  LOG ic0fbDev_CFOU   1 - ic0fbiDevDrvDiscreteMo...   \n",
       "59  LOG ic0fbControl_1   1 - ic0fbControlSrv.C:695...   \n",
       "60                  LOG bob_25299   12 (SpringGreen4)   \n",
       "61               LOG pnoControl   SETUP command done.   \n",
       "62  FEVT logManager INS.OPTI1.MOVE  Motion execution.   \n",
       "63  FEVT logManager INS.OPTI2.MOVE  Motion execution.   \n",
       "64   FEVT logManager INS.LAMP1.START  Lamp turned on.   \n",
       "65   FEVT logManager INS.LAMP2.STOP  Lamp turned off.   \n",
       "66  LOG bob_25299   ... DET.SUBWIN2.GEOMETRY 6x1+-...   \n",
       "67  LOG bob_25299   ... DET.SUBWIN28.GEOMETRY 6x1+...   \n",
       "68  LOG bob_25299   ... INS.OPTI2.NAME GRI+WOL (blue)   \n",
       "69  LOG bob_25299   ... DET.SUBWIN17.GEOMETRY 6x1+...   \n",
       "\n",
       "                                            colorized  color_id  \n",
       "50  log pnocontrol reply not last to status receiv...        39  \n",
       "51          log bob_{} ins mode observ h springgreen4        40  \n",
       "52  log bob_{} beginning exposure {} of {} {} unde...        41  \n",
       "53  log bob_{} setup expoid {} function ins mode o...        42  \n",
       "54             log pnocontrol executing setup command        12  \n",
       "55                 log pnocontrol forward b {} to dcs        13  \n",
       "56  log ic0fbcontrol_1 {} ic0fbcontrolsrv c {} cha...        16  \n",
       "57    fevt logmanager ins opti1 move motion execution        18  \n",
       "58  log ic0fbdev_cfou {} ic0fbidevdrvdiscretemotor...        29  \n",
       "59  log ic0fbcontrol_1 {} ic0fbcontrolsrv c {} cha...        19  \n",
       "60                         log bob_{} {} springgreen4        43  \n",
       "61                  log pnocontrol setup command done        20  \n",
       "62    fevt logmanager ins opti1 move motion execution        18  \n",
       "63    fevt logmanager ins opti2 move motion execution        44  \n",
       "64     fevt logmanager ins lamp1 start lamp turned on        45  \n",
       "65     fevt logmanager ins lamp2 stop lamp turned off        22  \n",
       "66              log bob_{} _setup_parameters_ommited_        46  \n",
       "67              log bob_{} _setup_parameters_ommited_        46  \n",
       "68             log bob_{} ins opti2 name gri wol blue        47  \n",
       "69              log bob_{} _setup_parameters_ommited_        46  "
      ]
     },
     "execution_count": 6,
     "metadata": {},
     "output_type": "execute_result"
    }
   ],
   "source": [
    "# See learnt tokenization in action. Use swifter for faster processing if you need\n",
    "#!pip install swifter\n",
    "#traces['colorized'] = traces['event'].swifter.apply(lambda x: model.tokenize(x))\n",
    "\n",
    "traces['colorized'] = traces['event'].apply(lambda x: model.tokenize(x))\n",
    "traces['color_id'] = traces['colorized'].apply(lambda x: model.vocab_dict_.get(x, model.vocab_dict_['<unk>']))\n",
    "\n",
    "traces[['event', 'colorized', 'color_id']][50:70]"
   ]
  },
  {
   "cell_type": "markdown",
   "metadata": {},
   "source": [
    "### Save the tokenizer"
   ]
  },
  {
   "cell_type": "code",
   "execution_count": 7,
   "metadata": {},
   "outputs": [
    {
     "name": "stdout",
     "output_type": "stream",
     "text": [
      "total 520\n",
      "-rw-r--r--  1 jgil  5000   250K Jan  2 11:48 example_logcolorizer.pkl\n"
     ]
    }
   ],
   "source": [
    "model.save('data/models/example_logcolorizer.pkl')\n",
    "!ls -lh data/models/"
   ]
  },
  {
   "cell_type": "markdown",
   "metadata": {},
   "source": [
    "### Load the tokenizer"
   ]
  },
  {
   "cell_type": "code",
   "execution_count": 8,
   "metadata": {},
   "outputs": [
    {
     "data": {
      "text/plain": [
       "0"
      ]
     },
     "execution_count": 8,
     "metadata": {},
     "output_type": "execute_result"
    }
   ],
   "source": [
    "model = load_tokenizer('data/models/example_logcolorizer.pkl')\n",
    "model.vocab_dict_['<unk>']"
   ]
  },
  {
   "cell_type": "markdown",
   "metadata": {},
   "source": [
    "### Color growth"
   ]
  },
  {
   "cell_type": "code",
   "execution_count": 9,
   "metadata": {},
   "outputs": [
    {
     "data": {
      "image/png": "[encoded data removed]",
      "text/plain": [
       "<Figure size 640x480 with 1 Axes>"
      ]
     },
     "metadata": {},
     "output_type": "display_data"
    }
   ],
   "source": [
    "words = [ word  for row in model.traces_.keys() for word in model.traces_[row] ]\n",
    "df = pd.DataFrame( { 'words': words })\n",
    "\n",
    "_ = measure_color_growth(df['words'], plot=True, title=None, retplot=True)\n"
   ]
  },
  {
   "cell_type": "markdown",
   "metadata": {},
   "source": [
    "### Word Frequency heatmap"
   ]
  },
  {
   "cell_type": "code",
   "execution_count": 10,
   "metadata": {},
   "outputs": [
    {
     "data": {
      "text/plain": [
       "394"
      ]
     },
     "execution_count": 10,
     "metadata": {},
     "output_type": "execute_result"
    }
   ],
   "source": [
    "len(model.traces_)"
   ]
  },
  {
   "cell_type": "code",
   "execution_count": 11,
   "metadata": {},
   "outputs": [],
   "source": [
    "traces_coloured = []\n",
    "for k, row in model.traces_.items():\n",
    "    frequencies = Counter( row )\n",
    "    trace_encoded = { k: 0 for k in model.vocab_dict_.values() }\n",
    "    trace_encoded.update(frequencies) ## [freq(word_1), ..., freq(word_n)]\n",
    "    traces_coloured.append( list(trace_encoded.values()) )\n",
    "\n",
    "matrix = np.asarray(traces_coloured) "
   ]
  },
  {
   "cell_type": "code",
   "execution_count": 12,
   "metadata": {},
   "outputs": [
    {
     "data": {
      "image/png": "[encoded data removed]",
      "text/plain": [
       "<Figure size 1200x500 with 1 Axes>"
      ]
     },
     "metadata": {},
     "output_type": "display_data"
    }
   ],
   "source": [
    "_ = draw_heatmap(matrix)"
   ]
  },
  {
   "cell_type": "markdown",
   "metadata": {},
   "source": [
    "### Inspect inner workings of the model"
   ]
  },
  {
   "cell_type": "code",
   "execution_count": 13,
   "metadata": {},
   "outputs": [
    {
     "name": "stdout",
     "output_type": "stream",
     "text": [
      "\n",
      "Num of regexps  : 10\n",
      "Num of templates: 23\n",
      "Vocabulary size : 637\n",
      "\n"
     ]
    }
   ],
   "source": [
    "print(f\"\"\"\n",
    "Num of regexps  : {len(model.regexps)}\n",
    "Num of templates: {len(model.templates)}\n",
    "Vocabulary size : {len(model.vocab_dict_)}\n",
    "\"\"\")"
   ]
  },
  {
   "cell_type": "code",
   "execution_count": 14,
   "metadata": {},
   "outputs": [
    {
     "data": {
      "text/plain": [
       "[('<unk>', 0),\n",
       " ('log bob_ins pionier_gen_{} {} {} yellow', 1),\n",
       " ('log bob_ins started at {} underlined', 2),\n",
       " ('log bob_ins seq win single f', 3),\n",
       " ('log bob_ins ins mode observ h', 4),\n",
       " ('log bob_ins ins disp name free', 5),\n",
       " ('log bob_ins status function ins mode blue', 6),\n",
       " ('log pnocontrol send command status ins mode false to sub system ics', 7),\n",
       " ('log pnocontrol reply not last to status received ins mode park len {} last reply will be ignored',\n",
       "  8),\n",
       " ('log bob_ins ins mode park springgreen4', 9),\n",
       " ('log bob_ins beginning exposure {} of {} {} underlined', 10),\n",
       " ('log bob_ins setup expoid {} function ins mode park det scan st f blue', 11),\n",
       " ('log pnocontrol executing setup command', 12),\n",
       " ('log pnocontrol forward b {} to dcs', 13),\n",
       " ('log ic0fbcontrol_1 {} ic0fbinsmodel c {} notice irrelevant setup key received ins shut{} st',\n",
       "  14),\n",
       " ('log ic0fbcontrol_1 {} ic0fbinsmodel c {} notice irrelevant setup key s contained in setup buffer',\n",
       "  15),\n",
       " ('log ic0fbcontrol_1 {} ic0fbcontrolsrv c {} changing substate from idle to busy',\n",
       "  16),\n",
       " ('fevt logmanager ins opti1 movedone motor offset done', 17),\n",
       " ('fevt logmanager ins opti1 move motion execution', 18),\n",
       " ('log ic0fbcontrol_1 {} ic0fbcontrolsrv c {} changing substate from busy to idle',\n",
       "  19)]"
      ]
     },
     "execution_count": 14,
     "metadata": {},
     "output_type": "execute_result"
    }
   ],
   "source": [
    "# First 20 items of the vocabulary\n",
    "list(model.vocab_dict_.items())[:20]"
   ]
  },
  {
   "cell_type": "code",
   "execution_count": 15,
   "metadata": {},
   "outputs": [
    {
     "data": {
      "text/plain": [
       "[('([lw]a{0,1}t)[0-9]([a-z]+)', '\\\\1{}\\\\2'),\n",
       " ('(\\\\W)cmd\\\\d+', '\\\\1cmd{}'),\n",
       " ('(\\\\s*?[a-z][a-z0-9]{2,})_[0-9]{3,}(\\\\s*)', '\\\\1_{}\\\\2'),\n",
       " ('\\\\.\\\\.\\\\.(\\\\s+\\\\S+){5}.*', '_setup_parameters_ommited_'),\n",
       " ('\\\\d{4}-\\\\d{2}-\\\\d{2}[ tT]\\\\d{2}:\\\\d{2}:\\\\d{2}(\\\\.\\\\d{0,3})?', '{}'),\n",
       " ('\\\\b-?\\\\d+(\\\\.\\\\d+)?([eE][-+]?\\\\d+(\\\\.\\\\d+)?)?\\\\b', '{}'),\n",
       " ('-{}', '{}'),\n",
       " ('[\\\\\"\\'!,;:\\\\+\\\\*\\\\$<>\\\\.\\\\-|/\\\\\\\\=\\\\[\\\\]\\\\()#]', ' '),\n",
       " ('(\\\\{\\\\})+', '{}'),\n",
       " [('(\\\\{\\\\})+', '{}'),\n",
       "  (' [0-9]+x[0-9]+a[0-9]+ ', ' {}x{}a{} '),\n",
       "  (' [0-9]+xf[0-9]+ ', ' {}xf{} '),\n",
       "  (' [0-9]+pho ', ' {}pho '),\n",
       "  (' [0-9]+x[0-9]+ ', ' {}x{} '),\n",
       "  (' a[0-9]+ ', ' a{} '),\n",
       "  (' beam[0-9]+ ', ' beam{} '),\n",
       "  (' cfg[0-9]+ ', ' cfg{} '),\n",
       "  (' cs[0-9]+ ', ' cs{} '),\n",
       "  (' cu[0-9]+ ', ' cu{} '),\n",
       "  (' dpnics[0-9]+ ', ' dpnics{} '),\n",
       "  (' g[0-9]+ ', ' g{} '),\n",
       "  (' ic[0-9]+fbcontrolsrv_standbycb ', ' ic{}fbcontrolsrv_standbycb '),\n",
       "  (' ic[0-9]+fbdev_ccool ', ' ic{}fbdev_ccool '),\n",
       "  (' ic[0-9]+fbdev_cryo ', ' ic{}fbdev_cryo '),\n",
       "  (' ic[0-9]+fbdev_disp ', ' ic{}fbdev_disp '),\n",
       "  (' ic[0-9]+fbdev_hal ', ' ic{}fbdev_hal '),\n",
       "  (' ic[0-9]+fbdev_hsk ', ' ic{}fbdev_hsk '),\n",
       "  (' ic[0-9]+fbdev_shut[0-9]+ ', ' ic{}fbdev_shut{} '),\n",
       "  (' ic[0-9]+fbdev_sled ', ' ic{}fbdev_sled '),\n",
       "  (' ic[0-9]+fbdevice ', ' ic{}fbdevice '),\n",
       "  (' ic[0-9]+fbdevsrv_onlinecb ', ' ic{}fbdevsrv_onlinecb '),\n",
       "  (' ic[0-9]+fbidiscretemotor_twincat ', ' ic{}fbidiscretemotor_twincat '),\n",
       "  (' ic[0-9]+fbnamemapping ', ' ic{}fbnamemapping '),\n",
       "  (' j[0-9]+ ', ' j{} '),\n",
       "  (' k[0-9]+ ', ' k{} '),\n",
       "  (' keyw[0-9]+ ', ' keyw{} '),\n",
       "  (' lib[0-9]+ ', ' lib{} '),\n",
       "  (' mjaxos[0-9]+wnc[0-9]+wmiagmja[0-9]+mti[0-9]+mj ',\n",
       "   ' mjaxos{}wnc{}wmiagmja{}mti{}mj '),\n",
       "  (' mjaxos[0-9]+wnc[0-9]+wmiagmta[0-9]+mzy[0-9]+mt ',\n",
       "   ' mjaxos{}wnc{}wmiagmta{}mzy{}mt '),\n",
       "  (' mjaxos[0-9]+wnc[0-9]+wmyagmdk[0-9]+ndy[0-9]+nt ',\n",
       "   ' mjaxos{}wnc{}wmyagmdk{}ndy{}nt '),\n",
       "  (' mjaxos[0-9]+wnc[0-9]+wmyagmtc[0-9]+mdg[0-9]+nd ',\n",
       "   ' mjaxos{}wnc{}wmyagmtc{}mdg{}nd '),\n",
       "  (' mjaxos[0-9]+wnc[0-9]+wncagmdg[0-9]+mjy[0-9]+mt ',\n",
       "   ' mjaxos{}wnc{}wncagmdg{}mjy{}mt '),\n",
       "  (' mjaxos[0-9]+wnc[0-9]+wncagmdu[0-9]+ntc[0-9]+nt ',\n",
       "   ' mjaxos{}wnc{}wncagmdu{}ntc{}nt '),\n",
       "  (' pionier_flux_gen[0-9]+_[0-9]+_beam_[0-9]+ ',\n",
       "   ' pionier_flux_gen{}_{}_beam_{} '),\n",
       "  (' pionier_gen_dark[0-9]+_[0-9]+ ', ' pionier_gen_dark{}_{} '),\n",
       "  (' pionier_gen_dark[0-9]+_[0-9]+_acs_hdr ',\n",
       "   ' pionier_gen_dark{}_{}_acs_hdr '),\n",
       "  (' pionier_gen_dark[0-9]+_[0-9]+_ics_hdr ',\n",
       "   ' pionier_gen_dark{}_{}_ics_hdr '),\n",
       "  (' pionier_gen_fringe[0-9]+_[0-9]+ ', ' pionier_gen_fringe{}_{} '),\n",
       "  (' pionier_gen_fringe[0-9]+_[0-9]+_acs_hdr ',\n",
       "   ' pionier_gen_fringe{}_{}_acs_hdr '),\n",
       "  (' pionier_gen_fringe[0-9]+_[0-9]+_ics_hdr ',\n",
       "   ' pionier_gen_fringe{}_{}_ics_hdr '),\n",
       "  (' pionier_gen_kappa[0-9]+_[0-9]+ ', ' pionier_gen_kappa{}_{} '),\n",
       "  (' pionier_gen_kappa[0-9]+_[0-9]+_acs_hdr ',\n",
       "   ' pionier_gen_kappa{}_{}_acs_hdr '),\n",
       "  (' pionier_gen_kappa[0-9]+_[0-9]+_ics_hdr ',\n",
       "   ' pionier_gen_kappa{}_{}_ics_hdr '),\n",
       "  (' pionier_gen_ptc[0-9]+_[0-9]+ ', ' pionier_gen_ptc{}_{} '),\n",
       "  (' pionier_gen_ptc[0-9]+_[0-9]+_acs_hdr ', ' pionier_gen_ptc{}_{}_acs_hdr '),\n",
       "  (' pionier_gen_ptc[0-9]+_[0-9]+_ics_hdr ', ' pionier_gen_ptc{}_{}_ics_hdr '),\n",
       "  (' pionier_gen_wave[0-9]+_[0-9]+ ', ' pionier_gen_wave{}_{} '),\n",
       "  (' pionier_gen_wave[0-9]+_[0-9]+_acs_hdr ',\n",
       "   ' pionier_gen_wave{}_{}_acs_hdr '),\n",
       "  (' pionier_gen_wave[0-9]+_[0-9]+_ics_hdr ',\n",
       "   ' pionier_gen_wave{}_{}_ics_hdr '),\n",
       "  (' pionier_obs_fringe[0-9]+_[0-9]+ ', ' pionier_obs_fringe{}_{} '),\n",
       "  (' pionier_obs_fringe[0-9]+_[0-9]+_acs_hdr ',\n",
       "   ' pionier_obs_fringe{}_{}_acs_hdr '),\n",
       "  (' pionier_obs_fringe[0-9]+_[0-9]+_ics_hdr ',\n",
       "   ' pionier_obs_fringe{}_{}_ics_hdr '),\n",
       "  (' s[0-9]+ ', ' s{} '),\n",
       "  (' script[0-9]+ ', ' script{} '),\n",
       "  (' subwin[0-9]+ ', ' subwin{} '),\n",
       "  (' tcshdr_dcs_[0-9]+ ', ' tcshdr_dcs_{} '),\n",
       "  (' u[0-9]+ ', ' u{} '),\n",
       "  (' value[0-9]+ ', ' value{} '),\n",
       "  (' vlt[0-9]+ ', ' vlt{} '),\n",
       "  (' shut[0-9]+ ', ' shut{} ')]]"
      ]
     },
     "execution_count": 15,
     "metadata": {},
     "output_type": "execute_result"
    }
   ],
   "source": [
    "model.regexps"
   ]
  },
  {
   "cell_type": "code",
   "execution_count": 16,
   "metadata": {},
   "outputs": [
    {
     "data": {
      "text/plain": [
       "['flog logmanager ins cfg{} ttm§ xref {}',\n",
       " 'flog logmanager ins cfg{} ttm§ yref {}',\n",
       " 'log bob_ins det § § {} springgreen4',\n",
       " 'log bob_ins ins2 ttm§ xref {} springgreen4',\n",
       " 'log bob_ins ins2 ttm§ yref {} springgreen4',\n",
       " 'log pnocontrol forward a § to dcs',\n",
       " 'log pnocontrol forward b § to dcs',\n",
       " 'log bob_ins status function det § § blue',\n",
       " 'log bob_ins status function ins2 § § blue',\n",
       " 'log ic0fbcontrol_1 {} ic0fbcontrolsrv c {} device § changed state from standby to standby',\n",
       " 'log unknown send a{} no kill mjaxos{}wnc{}w§ reply to {}',\n",
       " 'err § evherr_error_handling this error stack contain not handled errors forcing closestack',\n",
       " 'log ic§ {} ic0fbdevsrv_standbycb c {} brought device § to standby state',\n",
       " 'log pnocontrol last reply to status from acs received ins2 ttm§ xref {} len {}',\n",
       " 'log pnocontrol last reply to status from acs received ins2 ttm§ yref {} len {}',\n",
       " 'log pnocontrol last reply to status from dcs received det § § {} len {}',\n",
       " 'flog logmanager det dl§ zeroopd {}',\n",
       " 'log bob_ins pionier_gen_§ § § yellow',\n",
       " 'log bob_ins seq § § {}',\n",
       " 'log bob_ins template pionier_§ finished',\n",
       " 'log bob_ins tplexectimestats tpl id § estimated {} {} {} real {} {} {} diff {} seconds {} {} {}',\n",
       " 'log pnocontrol send command status det § § false to sub system dcs',\n",
       " 'log pnocontrol send command status ins2 § § false to sub system acs']"
      ]
     },
     "execution_count": 16,
     "metadata": {},
     "output_type": "execute_result"
    }
   ],
   "source": [
    "model.templates"
   ]
  },
  {
   "cell_type": "code",
   "execution_count": null,
   "metadata": {},
   "outputs": [],
   "source": []
  }
 ],
 "metadata": {
  "kernelspec": {
   "display_name": "venv",
   "language": "python",
   "name": "python3"
  },
  "language_info": {
   "codemirror_mode": {
    "name": "ipython",
    "version": 3
   },
   "file_extension": ".py",
   "mimetype": "text/x-python",
   "name": "python",
   "nbconvert_exporter": "python",
   "pygments_lexer": "ipython3",
   "version": "3.10.9"
  }
 },
 "nbformat": 4,
 "nbformat_minor": 2
}
